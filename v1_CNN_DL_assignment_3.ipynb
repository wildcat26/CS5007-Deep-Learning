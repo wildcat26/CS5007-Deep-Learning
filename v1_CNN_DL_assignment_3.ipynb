{
  "nbformat": 4,
  "nbformat_minor": 0,
  "metadata": {
    "colab": {
      "name": "v1_CNN - DL_assignment_3",
      "provenance": [],
      "collapsed_sections": [],
      "include_colab_link": true
    },
    "kernelspec": {
      "name": "python2",
      "display_name": "Python 2"
    }
  },
  "cells": [
    {
      "cell_type": "markdown",
      "metadata": {
        "id": "view-in-github",
        "colab_type": "text"
      },
      "source": [
        "<a href=\"https://colab.research.google.com/github/wildcat26/Deep-Learning-Assignments/blob/master/v1_CNN_DL_assignment_3.ipynb\" target=\"_parent\"><img src=\"https://colab.research.google.com/assets/colab-badge.svg\" alt=\"Open In Colab\"/></a>"
      ]
    },
    {
      "cell_type": "code",
      "metadata": {
        "id": "3pWA4ZjQiwaL",
        "colab_type": "code",
        "outputId": "198a3854-0593-4ea9-f4e4-8fb0fcdf5f03",
        "colab": {
          "base_uri": "https://localhost:8080/",
          "height": 64
        }
      },
      "source": [
        "import tensorflow as tf\n",
        "\n",
        "from tensorflow.keras import datasets, layers, models\n",
        "import numpy as np\n",
        "import matplotlib.pyplot as plt\n",
        "import os"
      ],
      "execution_count": 1,
      "outputs": [
        {
          "output_type": "display_data",
          "data": {
            "text/plain": [
              "<IPython.core.display.HTML object>"
            ],
            "text/html": [
              "<p style=\"color: red;\">\n",
              "The default version of TensorFlow in Colab will soon switch to TensorFlow 2.x.<br>\n",
              "We recommend you <a href=\"https://www.tensorflow.org/guide/migrate\" target=\"_blank\">upgrade</a> now \n",
              "or ensure your notebook will continue to use TensorFlow 1.x via the <code>%tensorflow_version 1.x</code> magic:\n",
              "<a href=\"https://colab.research.google.com/notebooks/tensorflow_version.ipynb\" target=\"_blank\">more info</a>.</p>\n"
            ]
          },
          "metadata": {
            "tags": []
          }
        }
      ]
    },
    {
      "cell_type": "code",
      "metadata": {
        "id": "g2yV_XoLjIdI",
        "colab_type": "code",
        "outputId": "36c50aa7-a6b5-4927-c4b0-ac7be271cba5",
        "colab": {
          "base_uri": "https://localhost:8080/",
          "height": 69
        }
      },
      "source": [
        "(train_images, train_labels), (test_images, test_labels) = datasets.cifar10.load_data()\n",
        "\n",
        "# Will see if normalization improves accuracy\n",
        "train_images, test_images = train_images / 255.0, test_images / 255.0"
      ],
      "execution_count": 2,
      "outputs": [
        {
          "output_type": "stream",
          "text": [
            "Downloading data from https://www.cs.toronto.edu/~kriz/cifar-10-python.tar.gz\n",
            "170500096/170498071 [==============================] - 6s 0us/step\n",
            "170508288/170498071 [==============================] - 6s 0us/step\n"
          ],
          "name": "stdout"
        }
      ]
    },
    {
      "cell_type": "code",
      "metadata": {
        "id": "nY27BBtjjbgZ",
        "colab_type": "code",
        "colab": {}
      },
      "source": [
        "validation_images = train_images[:10000]\n",
        "validation_labels = train_labels[:10000]\n",
        "\n",
        "train_images = train_images[10000:]\n",
        "train_labels = train_labels[10000:]\n",
        "\n",
        "# print (np.shape(validation_images))\n",
        "# print (np.shape(validation_labels))\n",
        "# print (np.shape(train_labels))\n",
        "# print (np.shape(train_images))\n"
      ],
      "execution_count": 0,
      "outputs": []
    },
    {
      "cell_type": "code",
      "metadata": {
        "id": "Miwm__3smBa_",
        "colab_type": "code",
        "colab": {}
      },
      "source": [
        "# dataset is already shuffled randomly"
      ],
      "execution_count": 0,
      "outputs": []
    },
    {
      "cell_type": "code",
      "metadata": {
        "id": "yw68uwPynIHY",
        "colab_type": "code",
        "outputId": "384cd3ea-eaa2-4777-83e2-438535e300c0",
        "colab": {
          "base_uri": "https://localhost:8080/",
          "height": 286
        }
      },
      "source": [
        "plt.figure(figsize=(4,4))\n",
        "plt.imshow(train_images[0])\n",
        "print(train_labels[0])\n",
        "plt.show()\n",
        "\n",
        "# seems like a ship"
      ],
      "execution_count": 6,
      "outputs": [
        {
          "output_type": "stream",
          "text": [
            "[8]\n"
          ],
          "name": "stdout"
        },
        {
          "output_type": "display_data",
          "data": {
            "image/png": "[encoded data removed]",
            "text/plain": [
              "<Figure size 288x288 with 1 Axes>"
            ]
          },
          "metadata": {
            "tags": []
          }
        }
      ]
    },
    {
      "cell_type": "code",
      "metadata": {
        "id": "AqMz41QIqE7v",
        "colab_type": "code",
        "outputId": "cc061a9e-7e3f-42e9-e9c7-4cb72c9f0a1c",
        "colab": {
          "base_uri": "https://localhost:8080/",
          "height": 489
        }
      },
      "source": [
        "model_1 = models.Sequential()\n",
        "\n",
        "# first convolution and max pooling layer ---  padding='valid' is zero padding by default\n",
        "\n",
        "model_1.add(layers.Conv2D(32, (5, 5), activation='relu', input_shape=(32, 32, 3)))\n",
        "model_1.add(layers.MaxPooling2D((2, 2)))\n",
        "\n",
        "# model_1.add(layers.MaxPooling2D(pool_size=2))            // 2 will be used for both dimensions\n",
        "\n",
        "# second convolution and max pooling layer\n",
        "model_1.add(layers.Conv2D(64, (5, 5), activation='relu'))\n",
        "model_1.add(layers.MaxPooling2D((2, 2)))\n",
        "\n",
        "model_1.add(layers.Flatten())\n",
        "model_1.add(layers.Dense(64, activation='relu'))\n",
        "model_1.add(layers.Dense(10, activation='softmax'))\n",
        "\n",
        "model_1.summary()\n"
      ],
      "execution_count": 7,
      "outputs": [
        {
          "output_type": "stream",
          "text": [
            "WARNING: Logging before flag parsing goes to stderr.\n",
            "W1102 04:59:55.814208 139802957391744 deprecation.py:506] From /usr/local/lib/python2.7/dist-packages/tensorflow_core/python/ops/resource_variable_ops.py:1630: calling __init__ (from tensorflow.python.ops.resource_variable_ops) with constraint is deprecated and will be removed in a future version.\n",
            "Instructions for updating:\n",
            "If using Keras pass *_constraint arguments to layers.\n"
          ],
          "name": "stderr"
        },
        {
          "output_type": "stream",
          "text": [
            "Model: \"sequential\"\n",
            "_________________________________________________________________\n",
            "Layer (type)                 Output Shape              Param #   \n",
            "=================================================================\n",
            "conv2d (Conv2D)              (None, 28, 28, 32)        2432      \n",
            "_________________________________________________________________\n",
            "max_pooling2d (MaxPooling2D) (None, 14, 14, 32)        0         \n",
            "_________________________________________________________________\n",
            "conv2d_1 (Conv2D)            (None, 10, 10, 64)        51264     \n",
            "_________________________________________________________________\n",
            "max_pooling2d_1 (MaxPooling2 (None, 5, 5, 64)          0         \n",
            "_________________________________________________________________\n",
            "flatten (Flatten)            (None, 1600)              0         \n",
            "_________________________________________________________________\n",
            "dense (Dense)                (None, 64)                102464    \n",
            "_________________________________________________________________\n",
            "dense_1 (Dense)              (None, 10)                650       \n",
            "=================================================================\n",
            "Total params: 156,810\n",
            "Trainable params: 156,810\n",
            "Non-trainable params: 0\n",
            "_________________________________________________________________\n"
          ],
          "name": "stdout"
        }
      ]
    },
    {
      "cell_type": "code",
      "metadata": {
        "id": "m5lINQKo5-Fq",
        "colab_type": "code",
        "outputId": "3b7993c1-52c2-486a-edf4-029108708ceb",
        "colab": {
          "base_uri": "https://localhost:8080/",
          "height": 399
        }
      },
      "source": [
        "model_1.compile(optimizer='adam', loss='sparse_categorical_crossentropy', metrics=['accuracy'])\n",
        "\n",
        "checkpoint_1 = os.path.dirname(\"training_1/training_1.ckpt\")\n",
        "cp_callback = tf.keras.callbacks.ModelCheckpoint(filepath=checkpoint_1, save_weights_only=True)\n",
        "\n",
        "model_1.fit(train_images, train_labels, epochs=10, validation_data=(validation_images, validation_labels), callbacks=[cp_callback])"
      ],
      "execution_count": 11,
      "outputs": [
        {
          "output_type": "stream",
          "text": [
            "Train on 30000 samples, validate on 10000 samples\n",
            "Epoch 1/10\n",
            "30000/30000 [==============================] - 68s 2ms/sample - loss: 1.0516 - acc: 0.6297 - val_loss: 1.2698 - val_acc: 0.5704\n",
            "Epoch 2/10\n",
            "30000/30000 [==============================] - 68s 2ms/sample - loss: 0.9669 - acc: 0.6603 - val_loss: 1.0826 - val_acc: 0.6234\n",
            "Epoch 3/10\n",
            "30000/30000 [==============================] - 67s 2ms/sample - loss: 0.8924 - acc: 0.6890 - val_loss: 1.0890 - val_acc: 0.6272\n",
            "Epoch 4/10\n",
            "30000/30000 [==============================] - 67s 2ms/sample - loss: 0.8266 - acc: 0.7114 - val_loss: 1.0349 - val_acc: 0.6530\n",
            "Epoch 5/10\n",
            "30000/30000 [==============================] - 66s 2ms/sample - loss: 0.7699 - acc: 0.7290 - val_loss: 1.0708 - val_acc: 0.6482\n",
            "Epoch 6/10\n",
            "30000/30000 [==============================] - 67s 2ms/sample - loss: 0.7205 - acc: 0.7482 - val_loss: 1.0839 - val_acc: 0.6401\n",
            "Epoch 7/10\n",
            "30000/30000 [==============================] - 66s 2ms/sample - loss: 0.6842 - acc: 0.7582 - val_loss: 1.0543 - val_acc: 0.6559\n",
            "Epoch 8/10\n",
            "30000/30000 [==============================] - 66s 2ms/sample - loss: 0.6281 - acc: 0.7796 - val_loss: 1.1206 - val_acc: 0.6486\n",
            "Epoch 9/10\n",
            "30000/30000 [==============================] - 67s 2ms/sample - loss: 0.5835 - acc: 0.7959 - val_loss: 1.1186 - val_acc: 0.6564\n",
            "Epoch 10/10\n",
            "30000/30000 [==============================] - 66s 2ms/sample - loss: 0.5453 - acc: 0.8096 - val_loss: 1.1813 - val_acc: 0.6454\n"
          ],
          "name": "stdout"
        },
        {
          "output_type": "execute_result",
          "data": {
            "text/plain": [
              "<tensorflow.python.keras.callbacks.History at 0x7f26202b0a90>"
            ]
          },
          "metadata": {
            "tags": []
          },
          "execution_count": 11
        }
      ]
    },
    {
      "cell_type": "code",
      "metadata": {
        "id": "y65iRy_xIyN1",
        "colab_type": "code",
        "colab": {
          "base_uri": "https://localhost:8080/",
          "height": 399
        },
        "outputId": "d54e005f-ff7c-4b7d-dc68-d5c3cf58d6f3"
      },
      "source": [
        "model_2 = models.Sequential()\n",
        "\n",
        "# first convolution and max pooling layer ---  padding='valid' is zero padding by default\n",
        "\n",
        "model_2.add(layers.Conv2D(32, (5, 5), activation='relu', input_shape=(32, 32, 3)))\n",
        "model_2.add(layers.MaxPooling2D((3, 3)))\n",
        "\n",
        "# model_2.add(layers.MaxPooling2D(pool_size=2))            // 2 will be used for both dimensions\n",
        "\n",
        "# second convolution and max pooling layer\n",
        "model_2.add(layers.Conv2D(64, (5, 5), activation='relu'))\n",
        "model_2.add(layers.MaxPooling2D((3, 3)))\n",
        "\n",
        "model_2.add(layers.Flatten())\n",
        "model_2.add(layers.Dense(64, activation='relu'))\n",
        "model_2.add(layers.Dense(10, activation='softmax'))\n",
        "\n",
        "model_2.summary()\n"
      ],
      "execution_count": 12,
      "outputs": [
        {
          "output_type": "stream",
          "text": [
            "Model: \"sequential_1\"\n",
            "_________________________________________________________________\n",
            "Layer (type)                 Output Shape              Param #   \n",
            "=================================================================\n",
            "conv2d_2 (Conv2D)            (None, 28, 28, 32)        2432      \n",
            "_________________________________________________________________\n",
            "max_pooling2d_2 (MaxPooling2 (None, 9, 9, 32)          0         \n",
            "_________________________________________________________________\n",
            "conv2d_3 (Conv2D)            (None, 5, 5, 64)          51264     \n",
            "_________________________________________________________________\n",
            "max_pooling2d_3 (MaxPooling2 (None, 1, 1, 64)          0         \n",
            "_________________________________________________________________\n",
            "flatten_1 (Flatten)          (None, 64)                0         \n",
            "_________________________________________________________________\n",
            "dense_2 (Dense)              (None, 64)                4160      \n",
            "_________________________________________________________________\n",
            "dense_3 (Dense)              (None, 10)                650       \n",
            "=================================================================\n",
            "Total params: 58,506\n",
            "Trainable params: 58,506\n",
            "Non-trainable params: 0\n",
            "_________________________________________________________________\n"
          ],
          "name": "stdout"
        }
      ]
    },
    {
      "cell_type": "code",
      "metadata": {
        "id": "QaA4TnZ8I2jL",
        "colab_type": "code",
        "colab": {
          "base_uri": "https://localhost:8080/",
          "height": 104
        },
        "outputId": "64c18b31-ec63-4fe5-9e84-2bf099916891"
      },
      "source": [
        "model_2.compile(optimizer='adam', loss='sparse_categorical_crossentropy', metrics=['accuracy'])\n",
        "\n",
        "checkpoint_2 = os.path.dirname(\"training_2/training_2.ckpt\")\n",
        "cp_callback_2 = tf.keras.callbacks.ModelCheckpoint(filepath=checkpoint_2, save_weights_only=True)\n",
        "\n",
        "model_2.fit(train_images, train_labels, epochs=10, validation_data=(validation_images, validation_labels), callbacks=[cp_callback_2])"
      ],
      "execution_count": 0,
      "outputs": [
        {
          "output_type": "stream",
          "text": [
            "Train on 30000 samples, validate on 10000 samples\n",
            "Epoch 1/10\n",
            "30000/30000 [==============================] - 38s 1ms/sample - loss: 1.8073 - acc: 0.3255 - val_loss: 1.5701 - val_acc: 0.4265\n",
            "Epoch 2/10\n",
            " 3424/30000 [==>...........................] - ETA: 30s - loss: 1.5293 - acc: 0.4419"
          ],
          "name": "stdout"
        }
      ]
    },
    {
      "cell_type": "code",
      "metadata": {
        "id": "2_ia0w3rIzJN",
        "colab_type": "code",
        "colab": {}
      },
      "source": [
        "model_3 = models.Sequential()\n",
        "\n",
        "# first convolution and max pooling layer ---  padding='valid' is zero padding by default\n",
        "\n",
        "model_3.add(layers.Conv2D(32, (3, 3), activation='relu', input_shape=(32, 32, 3)))\n",
        "model_3.add(layers.MaxPooling2D((2, 2)))\n",
        "\n",
        "# model_3.add(layers.MaxPooling2D(pool_size=2))            // 2 will be used for both dimensions\n",
        "\n",
        "# second convolution and max pooling layer\n",
        "model_3.add(layers.Conv2D(64, (3, 3), activation='relu'))\n",
        "model_3.add(layers.MaxPooling2D((2, 2)))\n",
        "\n",
        "model_3.add(layers.Flatten())\n",
        "model_3.add(layers.Dense(64, activation='relu'))\n",
        "model_3.add(layers.Dense(10, activation='softmax'))\n",
        "\n",
        "model_3.summary()\n"
      ],
      "execution_count": 0,
      "outputs": []
    },
    {
      "cell_type": "code",
      "metadata": {
        "id": "m-oyHIqvI3UM",
        "colab_type": "code",
        "colab": {}
      },
      "source": [
        "model_3.compile(optimizer='adam', loss='sparse_categorical_crossentropy', metrics=['accuracy'])\n",
        "\n",
        "checkpoint_3 = os.path.dirname(\"training_3/training_3.ckpt\")\n",
        "cp_callback_3 = tf.keras.callbacks.ModelCheckpoint(filepath=checkpoint_3, save_weights_only=True)\n",
        "\n",
        "model_3.fit(train_images, train_labels, epochs=10, validation_data=(validation_images, validation_labels), callbacks=[cp_callback_3])"
      ],
      "execution_count": 0,
      "outputs": []
    },
    {
      "cell_type": "code",
      "metadata": {
        "id": "L_xK-YIhIz_v",
        "colab_type": "code",
        "colab": {}
      },
      "source": [
        "model_4 = models.Sequential()\n",
        "\n",
        "# first convolution and max pooling layer ---  padding='valid' is zero padding by default\n",
        "\n",
        "model_4.add(layers.Conv2D(32, (3, 3), activation='relu', input_shape=(32, 32, 3)))\n",
        "model_4.add(layers.MaxPooling2D((2, 2)))\n",
        "\n",
        "# model_4.add(layers.MaxPooling2D(pool_size=2))            // 2 will be used for both dimensions\n",
        "\n",
        "# second convolution and max pooling layer\n",
        "model_4.add(layers.Conv2D(64, (3, 3), activation='relu'))\n",
        "model_4.add(layers.MaxPooling2D((2, 2)))\n",
        "\n",
        "model_4.add(layers.Conv2D(128, (3, 3), activation='relu'))\n",
        "model_4.add(layers.MaxPooling2D((2, 2)))\n",
        "\n",
        "model_4.add(layers.Flatten())\n",
        "model_4.add(layers.Dense(64, activation='relu'))\n",
        "model_4.add(layers.Dense(10, activation='softmax'))\n",
        "\n",
        "model_4.summary()\n"
      ],
      "execution_count": 0,
      "outputs": []
    },
    {
      "cell_type": "code",
      "metadata": {
        "id": "WAGTNr0QI4A8",
        "colab_type": "code",
        "colab": {}
      },
      "source": [
        "model_4.compile(optimizer='adam', loss='sparse_categorical_crossentropy', metrics=['accuracy'])\n",
        "\n",
        "checkpoint_4 = os.path.dirname(\"training_4/training_4.ckpt\")\n",
        "cp_callback_4 = tf.keras.callbacks.ModelCheckpoint(filepath=checkpoint_4, save_weights_only=True)\n",
        "\n",
        "model_4.fit(train_images, train_labels, epochs=10, validation_data=(validation_images, validation_labels), callbacks=[cp_callback_4])"
      ],
      "execution_count": 0,
      "outputs": []
    },
    {
      "cell_type": "code",
      "metadata": {
        "id": "koDFfaQ--RxI",
        "colab_type": "code",
        "colab": {}
      },
      "source": [
        "# Plot the accuracy and loss vs iteration for training data"
      ],
      "execution_count": 0,
      "outputs": []
    },
    {
      "cell_type": "code",
      "metadata": {
        "id": "SHRA-v2K-TVX",
        "colab_type": "code",
        "colab": {}
      },
      "source": [
        "checkpoint_path = \"training_1/cp.ckpt\"\n",
        "checkpoint_dir = os.path.dirname(checkpoint_path)\n",
        "\n",
        "# Create a callback that saves the model's weights\n",
        "cp_callback = tf.keras.callbacks.ModelCheckpoint(filepath=checkpoint_path,\n",
        "                                                 save_weights_only=True,\n",
        "                                                 verbose=1)\n",
        "\n",
        "# Train the model with the new callback\n",
        "model.fit(train_images, \n",
        "          train_labels,  \n",
        "          epochs=10,\n",
        "          validation_data=(test_images,test_labels),\n",
        "          callbacks=[cp_callback])  # Pass callback to training\n",
        "\n",
        "# This may generate warnings related to saving the state of the optimizer.\n",
        "# These warnings (and similar warnings throughout this notebook)\n",
        "# are in place to discourage outdated usage, and can be ignored.\n"
      ],
      "execution_count": 0,
      "outputs": []
    }
  ]
}