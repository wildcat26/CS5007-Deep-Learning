{
  "nbformat": 4,
  "nbformat_minor": 0,
  "metadata": {
    "colab": {
      "name": "v1_CNN - DL_assignment_3",
      "provenance": [],
      "collapsed_sections": [],
      "include_colab_link": true
    },
    "kernelspec": {
      "name": "python2",
      "display_name": "Python 2"
    }
  },
  "cells": [
    {
      "cell_type": "markdown",
      "metadata": {
        "id": "view-in-github",
        "colab_type": "text"
      },
      "source": [
        "<a href=\"https://colab.research.google.com/github/wildcat26/Deep-Learning-Assignments/blob/master/v1_CNN_DL_assignment_3.ipynb\" target=\"_parent\"><img src=\"https://colab.research.google.com/assets/colab-badge.svg\" alt=\"Open In Colab\"/></a>"
      ]
    },
    {
      "cell_type": "code",
      "metadata": {
        "id": "3pWA4ZjQiwaL",
        "colab_type": "code",
        "colab": {
          "base_uri": "https://localhost:8080/",
          "height": 81
        },
        "outputId": "ed23a1e4-2088-40ba-dfc2-8280dd7a50f5"
      },
      "source": [
        "import tensorflow as tf\n",
        "\n",
        "from tensorflow.keras import datasets, layers, models\n",
        "import numpy as np\n",
        "import matplotlib.pyplot as plt\n",
        "import os"
      ],
      "execution_count": 2,
      "outputs": [
        {
          "output_type": "display_data",
          "data": {
            "text/plain": [
              "<IPython.core.display.HTML object>"
            ],
            "text/html": [
              "<p style=\"color: red;\">\n",
              "The default version of TensorFlow in Colab will soon switch to TensorFlow 2.x.<br>\n",
              "We recommend you <a href=\"https://www.tensorflow.org/guide/migrate\" target=\"_blank\">upgrade</a> now \n",
              "or ensure your notebook will continue to use TensorFlow 1.x via the <code>%tensorflow_version 1.x</code> magic:\n",
              "<a href=\"https://colab.research.google.com/notebooks/tensorflow_version.ipynb\" target=\"_blank\">more info</a>.</p>\n"
            ]
          },
          "metadata": {
            "tags": []
          }
        }
      ]
    },
    {
      "cell_type": "code",
      "metadata": {
        "id": "g2yV_XoLjIdI",
        "colab_type": "code",
        "colab": {
          "base_uri": "https://localhost:8080/",
          "height": 89
        },
        "outputId": "d92eaa90-037b-4a5b-b60a-9448633ea8e2"
      },
      "source": [
        "(train_images, train_labels), (test_images, test_labels) = datasets.cifar10.load_data()\n",
        "\n",
        "# Will see if normalization improves accuracy\n",
        "train_images, test_images = train_images / 255.0, test_images / 255.0"
      ],
      "execution_count": 3,
      "outputs": [
        {
          "output_type": "stream",
          "text": [
            "Downloading data from https://www.cs.toronto.edu/~kriz/cifar-10-python.tar.gz\n",
            "170500096/170498071 [==============================] - 2s 0us/step\n",
            "170508288/170498071 [==============================] - 2s 0us/step\n"
          ],
          "name": "stdout"
        }
      ]
    },
    {
      "cell_type": "code",
      "metadata": {
        "id": "nY27BBtjjbgZ",
        "colab_type": "code",
        "colab": {}
      },
      "source": [
        "validation_images = train_images[:10000]\n",
        "validation_labels = train_labels[:10000]\n",
        "\n",
        "train_images = train_images[10000:]\n",
        "train_labels = train_labels[10000:]\n",
        "\n",
        "# print (np.shape(validation_images))\n",
        "# print (np.shape(validation_labels))\n",
        "# print (np.shape(train_labels))\n",
        "# print (np.shape(train_images))\n"
      ],
      "execution_count": 0,
      "outputs": []
    },
    {
      "cell_type": "code",
      "metadata": {
        "id": "Miwm__3smBa_",
        "colab_type": "code",
        "colab": {}
      },
      "source": [
        "# dataset is already shuffled randomly\n",
        "# Kernel depth is the same as input image depth"
      ],
      "execution_count": 0,
      "outputs": []
    },
    {
      "cell_type": "code",
      "metadata": {
        "id": "yw68uwPynIHY",
        "colab_type": "code",
        "outputId": "495a504e-06c5-4f4c-a21a-d9da1f44ae4a",
        "colab": {
          "base_uri": "https://localhost:8080/",
          "height": 177
        }
      },
      "source": [
        "plt.figure(figsize=(2,2))\n",
        "plt.imshow(train_images[0])\n",
        "print(train_labels[0])\n",
        "\n",
        "plt.show()\n",
        "\n",
        "# seems like a car"
      ],
      "execution_count": 5,
      "outputs": [
        {
          "output_type": "stream",
          "text": [
            "[1]\n"
          ],
          "name": "stdout"
        },
        {
          "output_type": "display_data",
          "data": {
            "image/png": "[encoded data removed]",
            "text/plain": [
              "<Figure size 144x144 with 1 Axes>"
            ]
          },
          "metadata": {
            "tags": []
          }
        }
      ]
    },
    {
      "cell_type": "code",
      "metadata": {
        "id": "kBZ_Yc0UZT7c",
        "colab_type": "code",
        "colab": {}
      },
      "source": [
        "def plot_accuracy (history):\n",
        "  plt.plot(history.history['acc'])\n",
        "  plt.plot(history.history['val_acc'])\n",
        "  plt.title('model accuracy')\n",
        "  plt.xlabel('epoch')\n",
        "  plt.ylabel('accuracy')\n",
        "  plt.legend(['train', 'test'], loc='upper left')\n",
        "  plt.show()\n",
        "\n",
        "def plot_loss(history):\n",
        "  plt.plot(history.history['loss'])\n",
        "  plt.plot(history.history['val_loss'])\n",
        "  plt.title('model loss')\n",
        "  plt.xlabel('epoch')\n",
        "  plt.ylabel('loss')\n",
        "  plt.legend(['train', 'test'], loc='upper left')\n",
        "  plt.show()"
      ],
      "execution_count": 0,
      "outputs": []
    },
    {
      "cell_type": "code",
      "metadata": {
        "id": "AqMz41QIqE7v",
        "colab_type": "code",
        "outputId": "14976e5a-adcb-4c5e-d4e8-a33f42c923e1",
        "colab": {
          "base_uri": "https://localhost:8080/",
          "height": 419
        }
      },
      "source": [
        "model_1 = models.Sequential()\n",
        "\n",
        "# first convolution and max pooling layer ---  padding='valid' is zero padding by default\n",
        "\n",
        "model_1.add(layers.Conv2D(32, (5, 5), activation='relu', input_shape=(32, 32, 3)))\n",
        "model_1.add(layers.MaxPooling2D((2, 2)))\n",
        "\n",
        "# model_1.add(layers.MaxPooling2D(pool_size=2))            // 2 will be used for both dimensions\n",
        "\n",
        "# second convolution and max pooling layer\n",
        "model_1.add(layers.Conv2D(64, (5, 5), activation='relu'))\n",
        "model_1.add(layers.MaxPooling2D((2, 2)))\n",
        "\n",
        "model_1.add(layers.Flatten())\n",
        "model_1.add(layers.Dense(64, activation='relu'))\n",
        "model_1.add(layers.Dense(10, activation='softmax'))\n",
        "\n",
        "model_1.summary()\n"
      ],
      "execution_count": 19,
      "outputs": [
        {
          "output_type": "stream",
          "text": [
            "Model: \"sequential_3\"\n",
            "_________________________________________________________________\n",
            "Layer (type)                 Output Shape              Param #   \n",
            "=================================================================\n",
            "conv2d_7 (Conv2D)            (None, 28, 28, 32)        2432      \n",
            "_________________________________________________________________\n",
            "max_pooling2d_7 (MaxPooling2 (None, 14, 14, 32)        0         \n",
            "_________________________________________________________________\n",
            "conv2d_8 (Conv2D)            (None, 10, 10, 64)        51264     \n",
            "_________________________________________________________________\n",
            "max_pooling2d_8 (MaxPooling2 (None, 5, 5, 64)          0         \n",
            "_________________________________________________________________\n",
            "flatten_3 (Flatten)          (None, 1600)              0         \n",
            "_________________________________________________________________\n",
            "dense_6 (Dense)              (None, 64)                102464    \n",
            "_________________________________________________________________\n",
            "dense_7 (Dense)              (None, 10)                650       \n",
            "=================================================================\n",
            "Total params: 156,810\n",
            "Trainable params: 156,810\n",
            "Non-trainable params: 0\n",
            "_________________________________________________________________\n"
          ],
          "name": "stdout"
        }
      ]
    },
    {
      "cell_type": "code",
      "metadata": {
        "id": "m5lINQKo5-Fq",
        "colab_type": "code",
        "outputId": "3c717d21-c2ce-435f-8e13-65cc07a0003c",
        "colab": {
          "base_uri": "https://localhost:8080/",
          "height": 402
        }
      },
      "source": [
        "model_1.compile(optimizer='adam', loss='sparse_categorical_crossentropy', metrics=['accuracy'])\n",
        "\n",
        "checkpoint_1 = os.path.dirname(\"training_1/training_1.ckpt\")\n",
        "cp_callback = tf.keras.callbacks.ModelCheckpoint(filepath=checkpoint_1, save_weights_only=True)\n",
        "\n",
        "history_1 = model_1.fit(train_images, train_labels, epochs=10, validation_data=(validation_images, validation_labels), callbacks=[cp_callback])"
      ],
      "execution_count": 20,
      "outputs": [
        {
          "output_type": "stream",
          "text": [
            "Train on 40000 samples, validate on 10000 samples\n",
            "Epoch 1/10\n",
            "40000/40000 [==============================] - 80s 2ms/sample - loss: 1.5804 - acc: 0.4278 - val_loss: 1.2967 - val_acc: 0.5405\n",
            "Epoch 2/10\n",
            "40000/40000 [==============================] - 79s 2ms/sample - loss: 1.2136 - acc: 0.5754 - val_loss: 1.1635 - val_acc: 0.5908\n",
            "Epoch 3/10\n",
            "40000/40000 [==============================] - 79s 2ms/sample - loss: 1.0710 - acc: 0.6254 - val_loss: 1.0804 - val_acc: 0.6292\n",
            "Epoch 4/10\n",
            "40000/40000 [==============================] - 80s 2ms/sample - loss: 0.9782 - acc: 0.6576 - val_loss: 1.0148 - val_acc: 0.6431\n",
            "Epoch 5/10\n",
            "40000/40000 [==============================] - 79s 2ms/sample - loss: 0.9088 - acc: 0.6824 - val_loss: 1.0072 - val_acc: 0.6500\n",
            "Epoch 6/10\n",
            "40000/40000 [==============================] - 79s 2ms/sample - loss: 0.8523 - acc: 0.7030 - val_loss: 0.9626 - val_acc: 0.6681\n",
            "Epoch 7/10\n",
            "40000/40000 [==============================] - 80s 2ms/sample - loss: 0.8003 - acc: 0.7216 - val_loss: 0.9344 - val_acc: 0.6794\n",
            "Epoch 8/10\n",
            "40000/40000 [==============================] - 80s 2ms/sample - loss: 0.7503 - acc: 0.7376 - val_loss: 0.9494 - val_acc: 0.6781\n",
            "Epoch 9/10\n",
            "40000/40000 [==============================] - 79s 2ms/sample - loss: 0.7117 - acc: 0.7507 - val_loss: 0.9654 - val_acc: 0.6776\n",
            "Epoch 10/10\n",
            "40000/40000 [==============================] - 79s 2ms/sample - loss: 0.6680 - acc: 0.7656 - val_loss: 0.9796 - val_acc: 0.6724\n"
          ],
          "name": "stdout"
        }
      ]
    },
    {
      "cell_type": "code",
      "metadata": {
        "id": "r8swnSsHnQT4",
        "colab_type": "code",
        "outputId": "af45b174-4624-402b-e1b7-e7358b655f7b",
        "colab": {
          "base_uri": "https://localhost:8080/",
          "height": 89
        }
      },
      "source": [
        "score_1 = model_1.evaluate(test_images, test_labels, verbose=1)\n",
        "score_1_ = model_1.evaluate(validation_images, validation_labels, verbose=1)\n",
        "score_1__ = model_1.evaluate(train_images, train_labels, verbose=1)"
      ],
      "execution_count": 35,
      "outputs": [
        {
          "output_type": "stream",
          "text": [
            "10000/10000 [==============================] - 5s 517us/sample - loss: 0.9785 - acc: 0.6744\n",
            "10000/10000 [==============================] - 5s 527us/sample - loss: 0.9796 - acc: 0.6724\n",
            "40000/40000 [==============================] - 21s 517us/sample - loss: 0.5965 - acc: 0.7925\n"
          ],
          "name": "stdout"
        }
      ]
    },
    {
      "cell_type": "code",
      "metadata": {
        "id": "PRyYdGEXaMlA",
        "colab_type": "code",
        "outputId": "d8856381-e2ad-41b2-b94d-b2e00036c7e2",
        "colab": {
          "base_uri": "https://localhost:8080/",
          "height": 573
        }
      },
      "source": [
        "plot_accuracy(history_1)\n",
        "plot_loss(history_1)"
      ],
      "execution_count": 56,
      "outputs": [
        {
          "output_type": "display_data",
          "data": {
            "image/png": "[encoded data removed]",
            "text/plain": [
              "<Figure size 432x288 with 1 Axes>"
            ]
          },
          "metadata": {
            "tags": []
          }
        },
        {
          "output_type": "display_data",
          "data": {
            "image/png": "[encoded data removed]",
            "text/plain": [
              "<Figure size 432x288 with 1 Axes>"
            ]
          },
          "metadata": {
            "tags": []
          }
        }
      ]
    },
    {
      "cell_type": "code",
      "metadata": {
        "id": "y65iRy_xIyN1",
        "colab_type": "code",
        "outputId": "59474b86-a1df-4462-a800-8818d0ed1534",
        "colab": {
          "base_uri": "https://localhost:8080/",
          "height": 419
        }
      },
      "source": [
        "model_2 = models.Sequential()\n",
        "\n",
        "# first convolution and max pooling layer ---  padding='valid' is zero padding by default\n",
        "\n",
        "model_2.add(layers.Conv2D(32, (5, 5), activation='relu', input_shape=(32, 32, 3)))\n",
        "model_2.add(layers.MaxPooling2D((3, 3)))\n",
        "\n",
        "# model_2.add(layers.MaxPooling2D(pool_size=2))            // 2 will be used for both dimensions\n",
        "\n",
        "# second convolution and max pooling layer\n",
        "model_2.add(layers.Conv2D(64, (5, 5), activation='relu'))\n",
        "model_2.add(layers.MaxPooling2D((3, 3)))\n",
        "\n",
        "model_2.add(layers.Flatten())\n",
        "model_2.add(layers.Dense(64, activation='relu'))\n",
        "model_2.add(layers.Dense(10, activation='softmax'))\n",
        "\n",
        "model_2.summary()\n"
      ],
      "execution_count": 23,
      "outputs": [
        {
          "output_type": "stream",
          "text": [
            "Model: \"sequential_4\"\n",
            "_________________________________________________________________\n",
            "Layer (type)                 Output Shape              Param #   \n",
            "=================================================================\n",
            "conv2d_9 (Conv2D)            (None, 28, 28, 32)        2432      \n",
            "_________________________________________________________________\n",
            "max_pooling2d_9 (MaxPooling2 (None, 9, 9, 32)          0         \n",
            "_________________________________________________________________\n",
            "conv2d_10 (Conv2D)           (None, 5, 5, 64)          51264     \n",
            "_________________________________________________________________\n",
            "max_pooling2d_10 (MaxPooling (None, 1, 1, 64)          0         \n",
            "_________________________________________________________________\n",
            "flatten_4 (Flatten)          (None, 64)                0         \n",
            "_________________________________________________________________\n",
            "dense_8 (Dense)              (None, 64)                4160      \n",
            "_________________________________________________________________\n",
            "dense_9 (Dense)              (None, 10)                650       \n",
            "=================================================================\n",
            "Total params: 58,506\n",
            "Trainable params: 58,506\n",
            "Non-trainable params: 0\n",
            "_________________________________________________________________\n"
          ],
          "name": "stdout"
        }
      ]
    },
    {
      "cell_type": "code",
      "metadata": {
        "id": "QaA4TnZ8I2jL",
        "colab_type": "code",
        "outputId": "50068477-26b5-4eb3-d74d-84361cd16636",
        "colab": {
          "base_uri": "https://localhost:8080/",
          "height": 402
        }
      },
      "source": [
        "model_2.compile(optimizer='adam', loss='sparse_categorical_crossentropy', metrics=['accuracy'])\n",
        "\n",
        "checkpoint_2 = os.path.dirname(\"training_2/training_2.ckpt\")\n",
        "cp_callback_2 = tf.keras.callbacks.ModelCheckpoint(filepath=checkpoint_2, save_weights_only=True)\n",
        "\n",
        "history_2 = model_2.fit(train_images, train_labels, epochs=10, validation_data=(validation_images, validation_labels), callbacks=[cp_callback_2])"
      ],
      "execution_count": 24,
      "outputs": [
        {
          "output_type": "stream",
          "text": [
            "Train on 40000 samples, validate on 10000 samples\n",
            "Epoch 1/10\n",
            "40000/40000 [==============================] - 43s 1ms/sample - loss: 1.7375 - acc: 0.3582 - val_loss: 1.5040 - val_acc: 0.4568\n",
            "Epoch 2/10\n",
            "40000/40000 [==============================] - 43s 1ms/sample - loss: 1.4517 - acc: 0.4772 - val_loss: 1.4036 - val_acc: 0.4978\n",
            "Epoch 3/10\n",
            "40000/40000 [==============================] - 43s 1ms/sample - loss: 1.3484 - acc: 0.5157 - val_loss: 1.3479 - val_acc: 0.5217\n",
            "Epoch 4/10\n",
            "40000/40000 [==============================] - 43s 1ms/sample - loss: 1.2788 - acc: 0.5463 - val_loss: 1.2928 - val_acc: 0.5376\n",
            "Epoch 5/10\n",
            "40000/40000 [==============================] - 43s 1ms/sample - loss: 1.2154 - acc: 0.5706 - val_loss: 1.2669 - val_acc: 0.5477\n",
            "Epoch 6/10\n",
            "40000/40000 [==============================] - 43s 1ms/sample - loss: 1.1648 - acc: 0.5892 - val_loss: 1.2357 - val_acc: 0.5631\n",
            "Epoch 7/10\n",
            "40000/40000 [==============================] - 43s 1ms/sample - loss: 1.1236 - acc: 0.6046 - val_loss: 1.1665 - val_acc: 0.5893\n",
            "Epoch 8/10\n",
            "40000/40000 [==============================] - 43s 1ms/sample - loss: 1.0862 - acc: 0.6192 - val_loss: 1.1699 - val_acc: 0.5906\n",
            "Epoch 9/10\n",
            "40000/40000 [==============================] - 43s 1ms/sample - loss: 1.0558 - acc: 0.6318 - val_loss: 1.1555 - val_acc: 0.5994\n",
            "Epoch 10/10\n",
            "40000/40000 [==============================] - 43s 1ms/sample - loss: 1.0308 - acc: 0.6423 - val_loss: 1.1530 - val_acc: 0.6011\n"
          ],
          "name": "stdout"
        }
      ]
    },
    {
      "cell_type": "code",
      "metadata": {
        "id": "IG95K83lwzdt",
        "colab_type": "code",
        "outputId": "11e321be-ae6f-47bd-fd98-d241252634f8",
        "colab": {
          "base_uri": "https://localhost:8080/",
          "height": 89
        }
      },
      "source": [
        "score_2 = model_2.evaluate(test_images, test_labels, verbose=1)\n",
        "score_2_ = model_2.evaluate(validation_images, validation_labels, verbose=1)\n",
        "score_2__ = model_2.evaluate(train_images, train_labels, verbose=1)"
      ],
      "execution_count": 36,
      "outputs": [
        {
          "output_type": "stream",
          "text": [
            "10000/10000 [==============================] - 4s 391us/sample - loss: 1.1793 - acc: 0.5940\n",
            "10000/10000 [==============================] - 4s 368us/sample - loss: 1.1530 - acc: 0.6011\n",
            "40000/40000 [==============================] - 14s 355us/sample - loss: 0.9687 - acc: 0.6629\n"
          ],
          "name": "stdout"
        }
      ]
    },
    {
      "cell_type": "code",
      "metadata": {
        "id": "X9Cuwvcns89a",
        "colab_type": "code",
        "colab": {
          "base_uri": "https://localhost:8080/",
          "height": 573
        },
        "outputId": "51c8c3d6-5cc5-47f9-925d-29ab19ee3ee5"
      },
      "source": [
        "plot_accuracy(history_2)\n",
        "plot_loss(history_2)"
      ],
      "execution_count": 57,
      "outputs": [
        {
          "output_type": "display_data",
          "data": {
            "image/png": "[encoded data removed]",
            "text/plain": [
              "<Figure size 432x288 with 1 Axes>"
            ]
          },
          "metadata": {
            "tags": []
          }
        },
        {
          "output_type": "display_data",
          "data": {
            "image/png": "[encoded data removed]",
            "text/plain": [
              "<Figure size 432x288 with 1 Axes>"
            ]
          },
          "metadata": {
            "tags": []
          }
        }
      ]
    },
    {
      "cell_type": "code",
      "metadata": {
        "id": "2_ia0w3rIzJN",
        "colab_type": "code",
        "outputId": "666c8a85-1d09-4ebf-a1ef-ce5aaaf672ea",
        "colab": {
          "base_uri": "https://localhost:8080/",
          "height": 419
        }
      },
      "source": [
        "model_3 = models.Sequential()\n",
        "\n",
        "# first convolution and max pooling layer ---  padding='valid' is zero padding by default\n",
        "\n",
        "model_3.add(layers.Conv2D(32, (3, 3), activation='relu', input_shape=(32, 32, 3)))\n",
        "model_3.add(layers.MaxPooling2D((2, 2)))\n",
        "\n",
        "# model_3.add(layers.MaxPooling2D(pool_size=2))            // 2 will be used for both dimensions\n",
        "\n",
        "# second convolution and max pooling layer\n",
        "model_3.add(layers.Conv2D(64, (3, 3), activation='relu'))\n",
        "model_3.add(layers.MaxPooling2D((2, 2)))\n",
        "\n",
        "model_3.add(layers.Flatten())\n",
        "model_3.add(layers.Dense(64, activation='relu'))\n",
        "model_3.add(layers.Dense(10, activation='softmax'))\n",
        "\n",
        "model_3.summary()\n"
      ],
      "execution_count": 27,
      "outputs": [
        {
          "output_type": "stream",
          "text": [
            "Model: \"sequential_5\"\n",
            "_________________________________________________________________\n",
            "Layer (type)                 Output Shape              Param #   \n",
            "=================================================================\n",
            "conv2d_11 (Conv2D)           (None, 30, 30, 32)        896       \n",
            "_________________________________________________________________\n",
            "max_pooling2d_11 (MaxPooling (None, 15, 15, 32)        0         \n",
            "_________________________________________________________________\n",
            "conv2d_12 (Conv2D)           (None, 13, 13, 64)        18496     \n",
            "_________________________________________________________________\n",
            "max_pooling2d_12 (MaxPooling (None, 6, 6, 64)          0         \n",
            "_________________________________________________________________\n",
            "flatten_5 (Flatten)          (None, 2304)              0         \n",
            "_________________________________________________________________\n",
            "dense_10 (Dense)             (None, 64)                147520    \n",
            "_________________________________________________________________\n",
            "dense_11 (Dense)             (None, 10)                650       \n",
            "=================================================================\n",
            "Total params: 167,562\n",
            "Trainable params: 167,562\n",
            "Non-trainable params: 0\n",
            "_________________________________________________________________\n"
          ],
          "name": "stdout"
        }
      ]
    },
    {
      "cell_type": "code",
      "metadata": {
        "id": "m-oyHIqvI3UM",
        "colab_type": "code",
        "outputId": "0c18c361-ee5e-4a2a-f879-eb3ee8bb16be",
        "colab": {
          "base_uri": "https://localhost:8080/",
          "height": 402
        }
      },
      "source": [
        "model_3.compile(optimizer='adam', loss='sparse_categorical_crossentropy', metrics=['accuracy'])\n",
        "\n",
        "checkpoint_3 = os.path.dirname(\"training_3/training_3.ckpt\")\n",
        "cp_callback_3 = tf.keras.callbacks.ModelCheckpoint(filepath=checkpoint_3, save_weights_only=True)\n",
        "\n",
        "history_3 = model_3.fit(train_images, train_labels, epochs=10, validation_data=(validation_images, validation_labels), callbacks=[cp_callback_3])"
      ],
      "execution_count": 28,
      "outputs": [
        {
          "output_type": "stream",
          "text": [
            "Train on 40000 samples, validate on 10000 samples\n",
            "Epoch 1/10\n",
            "40000/40000 [==============================] - 53s 1ms/sample - loss: 1.5137 - acc: 0.4557 - val_loss: 1.2753 - val_acc: 0.5496\n",
            "Epoch 2/10\n",
            "40000/40000 [==============================] - 53s 1ms/sample - loss: 1.1696 - acc: 0.5879 - val_loss: 1.1067 - val_acc: 0.6100\n",
            "Epoch 3/10\n",
            "40000/40000 [==============================] - 53s 1ms/sample - loss: 1.0293 - acc: 0.6404 - val_loss: 1.0202 - val_acc: 0.6430\n",
            "Epoch 4/10\n",
            "40000/40000 [==============================] - 53s 1ms/sample - loss: 0.9449 - acc: 0.6722 - val_loss: 1.0205 - val_acc: 0.6422\n",
            "Epoch 5/10\n",
            "40000/40000 [==============================] - 52s 1ms/sample - loss: 0.8745 - acc: 0.6990 - val_loss: 0.9822 - val_acc: 0.6645\n",
            "Epoch 6/10\n",
            "40000/40000 [==============================] - 52s 1ms/sample - loss: 0.8173 - acc: 0.7173 - val_loss: 0.9108 - val_acc: 0.6871\n",
            "Epoch 7/10\n",
            "40000/40000 [==============================] - 52s 1ms/sample - loss: 0.7666 - acc: 0.7355 - val_loss: 0.9223 - val_acc: 0.6821\n",
            "Epoch 8/10\n",
            "40000/40000 [==============================] - 53s 1ms/sample - loss: 0.7209 - acc: 0.7501 - val_loss: 0.9252 - val_acc: 0.6860\n",
            "Epoch 9/10\n",
            "40000/40000 [==============================] - 52s 1ms/sample - loss: 0.6765 - acc: 0.7662 - val_loss: 0.9275 - val_acc: 0.6875\n",
            "Epoch 10/10\n",
            "40000/40000 [==============================] - 53s 1ms/sample - loss: 0.6381 - acc: 0.7789 - val_loss: 0.9072 - val_acc: 0.7006\n"
          ],
          "name": "stdout"
        }
      ]
    },
    {
      "cell_type": "code",
      "metadata": {
        "id": "B6qC3jUaw4X_",
        "colab_type": "code",
        "outputId": "0e964eae-f308-4474-ce14-f31d922b2572",
        "colab": {
          "base_uri": "https://localhost:8080/",
          "height": 89
        }
      },
      "source": [
        "score_3 = model_3.evaluate(test_images, test_labels, verbose=1)\n",
        "score_3_ = model_3.evaluate(validation_images, validation_labels, verbose=1)\n",
        "score_3__ = model_3.evaluate(train_images, train_labels, verbose=1)"
      ],
      "execution_count": 37,
      "outputs": [
        {
          "output_type": "stream",
          "text": [
            "10000/10000 [==============================] - 4s 417us/sample - loss: 0.9203 - acc: 0.6962\n",
            "10000/10000 [==============================] - 4s 414us/sample - loss: 0.9072 - acc: 0.7006\n",
            "40000/40000 [==============================] - 17s 413us/sample - loss: 0.5614 - acc: 0.8092\n"
          ],
          "name": "stdout"
        }
      ]
    },
    {
      "cell_type": "code",
      "metadata": {
        "id": "UyzeHNPs3Fpk",
        "colab_type": "code",
        "colab": {
          "base_uri": "https://localhost:8080/",
          "height": 573
        },
        "outputId": "6a8b3e4c-cf25-4128-dbb9-f74635d4bd43"
      },
      "source": [
        "plot_accuracy(history_3)\n",
        "plot_loss(history_3)"
      ],
      "execution_count": 58,
      "outputs": [
        {
          "output_type": "display_data",
          "data": {
            "image/png": "[encoded data removed]",
            "text/plain": [
              "<Figure size 432x288 with 1 Axes>"
            ]
          },
          "metadata": {
            "tags": []
          }
        },
        {
          "output_type": "display_data",
          "data": {
            "image/png": "[encoded data removed]",
            "text/plain": [
              "<Figure size 432x288 with 1 Axes>"
            ]
          },
          "metadata": {
            "tags": []
          }
        }
      ]
    },
    {
      "cell_type": "code",
      "metadata": {
        "id": "L_xK-YIhIz_v",
        "colab_type": "code",
        "outputId": "0a464638-019a-4d2a-8077-5a950e68fa0b",
        "colab": {
          "base_uri": "https://localhost:8080/",
          "height": 489
        }
      },
      "source": [
        "model_4 = models.Sequential()\n",
        "\n",
        "# first convolution and max pooling layer ---  padding='valid' is zero padding by default\n",
        "\n",
        "model_4.add(layers.Conv2D(32, (3, 3), activation='relu', input_shape=(32, 32, 3)))\n",
        "model_4.add(layers.MaxPooling2D((2, 2)))\n",
        "\n",
        "# model_4.add(layers.MaxPooling2D(pool_size=2))            // 2 will be used for both dimensions\n",
        "\n",
        "# second convolution and max pooling layer\n",
        "model_4.add(layers.Conv2D(64, (3, 3), activation='relu'))\n",
        "model_4.add(layers.MaxPooling2D((2, 2)))\n",
        "\n",
        "model_4.add(layers.Conv2D(128, (3, 3), activation='relu'))\n",
        "model_4.add(layers.MaxPooling2D((2, 2)))\n",
        "\n",
        "model_4.add(layers.Flatten())\n",
        "model_4.add(layers.Dense(64, activation='relu'))\n",
        "model_4.add(layers.Dense(10, activation='softmax'))\n",
        "\n",
        "model_4.summary()\n"
      ],
      "execution_count": 31,
      "outputs": [
        {
          "output_type": "stream",
          "text": [
            "Model: \"sequential_6\"\n",
            "_________________________________________________________________\n",
            "Layer (type)                 Output Shape              Param #   \n",
            "=================================================================\n",
            "conv2d_13 (Conv2D)           (None, 30, 30, 32)        896       \n",
            "_________________________________________________________________\n",
            "max_pooling2d_13 (MaxPooling (None, 15, 15, 32)        0         \n",
            "_________________________________________________________________\n",
            "conv2d_14 (Conv2D)           (None, 13, 13, 64)        18496     \n",
            "_________________________________________________________________\n",
            "max_pooling2d_14 (MaxPooling (None, 6, 6, 64)          0         \n",
            "_________________________________________________________________\n",
            "conv2d_15 (Conv2D)           (None, 4, 4, 128)         73856     \n",
            "_________________________________________________________________\n",
            "max_pooling2d_15 (MaxPooling (None, 2, 2, 128)         0         \n",
            "_________________________________________________________________\n",
            "flatten_6 (Flatten)          (None, 512)               0         \n",
            "_________________________________________________________________\n",
            "dense_12 (Dense)             (None, 64)                32832     \n",
            "_________________________________________________________________\n",
            "dense_13 (Dense)             (None, 10)                650       \n",
            "=================================================================\n",
            "Total params: 126,730\n",
            "Trainable params: 126,730\n",
            "Non-trainable params: 0\n",
            "_________________________________________________________________\n"
          ],
          "name": "stdout"
        }
      ]
    },
    {
      "cell_type": "code",
      "metadata": {
        "id": "WAGTNr0QI4A8",
        "colab_type": "code",
        "outputId": "f54a67cd-2510-4df3-cdf6-01f1309e6ebf",
        "colab": {
          "base_uri": "https://localhost:8080/",
          "height": 402
        }
      },
      "source": [
        "model_4.compile(optimizer='adam', loss='sparse_categorical_crossentropy', metrics=['accuracy'])\n",
        "\n",
        "checkpoint_4 = os.path.dirname(\"training_4/training_4.ckpt\")\n",
        "cp_callback_4 = tf.keras.callbacks.ModelCheckpoint(filepath=checkpoint_4, save_weights_only=True)\n",
        "\n",
        "history_4 = model_4.fit(train_images, train_labels, epochs=10, validation_data=(validation_images, validation_labels), callbacks=[cp_callback_4])"
      ],
      "execution_count": 32,
      "outputs": [
        {
          "output_type": "stream",
          "text": [
            "Train on 40000 samples, validate on 10000 samples\n",
            "Epoch 1/10\n",
            "40000/40000 [==============================] - 60s 1ms/sample - loss: 1.5874 - acc: 0.4191 - val_loss: 1.2743 - val_acc: 0.5451\n",
            "Epoch 2/10\n",
            "40000/40000 [==============================] - 60s 1ms/sample - loss: 1.2124 - acc: 0.5696 - val_loss: 1.1621 - val_acc: 0.5966\n",
            "Epoch 3/10\n",
            "40000/40000 [==============================] - 59s 1ms/sample - loss: 1.0409 - acc: 0.6352 - val_loss: 1.0276 - val_acc: 0.6459\n",
            "Epoch 4/10\n",
            "40000/40000 [==============================] - 59s 1ms/sample - loss: 0.9240 - acc: 0.6789 - val_loss: 0.9569 - val_acc: 0.6610\n",
            "Epoch 5/10\n",
            "40000/40000 [==============================] - 59s 1ms/sample - loss: 0.8449 - acc: 0.7048 - val_loss: 0.9709 - val_acc: 0.6646\n",
            "Epoch 6/10\n",
            "40000/40000 [==============================] - 59s 1ms/sample - loss: 0.7791 - acc: 0.7291 - val_loss: 0.8950 - val_acc: 0.6918\n",
            "Epoch 7/10\n",
            "40000/40000 [==============================] - 59s 1ms/sample - loss: 0.7182 - acc: 0.7492 - val_loss: 0.8931 - val_acc: 0.6899\n",
            "Epoch 8/10\n",
            "40000/40000 [==============================] - 60s 1ms/sample - loss: 0.6669 - acc: 0.7666 - val_loss: 0.9252 - val_acc: 0.6859\n",
            "Epoch 9/10\n",
            "40000/40000 [==============================] - 59s 1ms/sample - loss: 0.6210 - acc: 0.7821 - val_loss: 0.8905 - val_acc: 0.7019\n",
            "Epoch 10/10\n",
            "40000/40000 [==============================] - 59s 1ms/sample - loss: 0.5770 - acc: 0.7981 - val_loss: 0.9170 - val_acc: 0.7006\n"
          ],
          "name": "stdout"
        }
      ]
    },
    {
      "cell_type": "code",
      "metadata": {
        "id": "cxVg0PBLw81-",
        "colab_type": "code",
        "outputId": "84d6454a-d7ea-4739-f8e5-6087b3a3a96d",
        "colab": {
          "base_uri": "https://localhost:8080/",
          "height": 89
        }
      },
      "source": [
        "score_4 = model_4.evaluate(test_images, test_labels, verbose=1)\n",
        "score_4_ = model_4.evaluate(validation_images, validation_labels, verbose=1)\n",
        "score_4__ = model_4.evaluate(train_images, train_labels, verbose=1)"
      ],
      "execution_count": 38,
      "outputs": [
        {
          "output_type": "stream",
          "text": [
            "10000/10000 [==============================] - 5s 454us/sample - loss: 0.9366 - acc: 0.6960\n",
            "10000/10000 [==============================] - 5s 454us/sample - loss: 0.9170 - acc: 0.7006\n",
            "40000/40000 [==============================] - 18s 453us/sample - loss: 0.5105 - acc: 0.8229\n"
          ],
          "name": "stdout"
        }
      ]
    },
    {
      "cell_type": "code",
      "metadata": {
        "id": "DTJwytqT3U1h",
        "colab_type": "code",
        "colab": {
          "base_uri": "https://localhost:8080/",
          "height": 573
        },
        "outputId": "f2922ec4-7951-4600-8b53-27572e98df89"
      },
      "source": [
        "plot_accuracy(history_4)\n",
        "plot_loss(history_4)"
      ],
      "execution_count": 59,
      "outputs": [
        {
          "output_type": "display_data",
          "data": {
            "image/png": "[encoded data removed]",
            "text/plain": [
              "<Figure size 432x288 with 1 Axes>"
            ]
          },
          "metadata": {
            "tags": []
          }
        },
        {
          "output_type": "display_data",
          "data": {
            "image/png": "[encoded data removed]",
            "text/plain": [
              "<Figure size 432x288 with 1 Axes>"
            ]
          },
          "metadata": {
            "tags": []
          }
        }
      ]
    },
    {
      "cell_type": "markdown",
      "metadata": {
        "id": "y94a6eWW7ptE",
        "colab_type": "text"
      },
      "source": [
        "The best performing model is Model 4 :- due to 3 convolutional & maxpooling layers which is greater than other models with 2 convolution and maxpooling layers. More layers (to a certain limit, before it leads to overfitting) helps in extracting more features. "
      ]
    },
    {
      "cell_type": "code",
      "metadata": {
        "id": "6cxV3VSZ7pGk",
        "colab_type": "code",
        "outputId": "1ae3d798-8791-4468-ee11-7af09ed12651",
        "colab": {
          "base_uri": "https://localhost:8080/",
          "height": 419
        }
      },
      "source": [
        "## Choosing model 3 - to avoid negative dimension error with model 4\n",
        "\n",
        "model_5 = models.Sequential()\n",
        "\n",
        "# first convolution and max pooling layer ---  padding='valid' is zero padding by default\n",
        "\n",
        "model_5.add(layers.Conv2D(32, (3, 3), activation='relu', strides=(2, 2), input_shape=(32, 32, 3)))\n",
        "model_5.add(layers.MaxPooling2D((2, 2)))\n",
        "\n",
        "# model_5.add(layers.MaxPooling2D(pool_size=2))            // 2 will be used for both dimensions\n",
        "\n",
        "# second convolution and max pooling layer\n",
        "model_5.add(layers.Conv2D(64, (3, 3), activation='relu', strides=(2, 2)))\n",
        "model_5.add(layers.MaxPooling2D((2, 2)))\n",
        "\n",
        "model_5.add(layers.Flatten())\n",
        "model_5.add(layers.Dense(64, activation='relu'))\n",
        "model_5.add(layers.Dense(10, activation='softmax'))\n",
        "\n",
        "model_5.summary()\n"
      ],
      "execution_count": 39,
      "outputs": [
        {
          "output_type": "stream",
          "text": [
            "Model: \"sequential_7\"\n",
            "_________________________________________________________________\n",
            "Layer (type)                 Output Shape              Param #   \n",
            "=================================================================\n",
            "conv2d_16 (Conv2D)           (None, 15, 15, 32)        896       \n",
            "_________________________________________________________________\n",
            "max_pooling2d_16 (MaxPooling (None, 7, 7, 32)          0         \n",
            "_________________________________________________________________\n",
            "conv2d_17 (Conv2D)           (None, 3, 3, 64)          18496     \n",
            "_________________________________________________________________\n",
            "max_pooling2d_17 (MaxPooling (None, 1, 1, 64)          0         \n",
            "_________________________________________________________________\n",
            "flatten_7 (Flatten)          (None, 64)                0         \n",
            "_________________________________________________________________\n",
            "dense_14 (Dense)             (None, 64)                4160      \n",
            "_________________________________________________________________\n",
            "dense_15 (Dense)             (None, 10)                650       \n",
            "=================================================================\n",
            "Total params: 24,202\n",
            "Trainable params: 24,202\n",
            "Non-trainable params: 0\n",
            "_________________________________________________________________\n"
          ],
          "name": "stdout"
        }
      ]
    },
    {
      "cell_type": "code",
      "metadata": {
        "id": "W_Soh4YsC3C8",
        "colab_type": "code",
        "outputId": "5b084f93-5355-49e6-af2e-2cc7ee715c28",
        "colab": {
          "base_uri": "https://localhost:8080/",
          "height": 402
        }
      },
      "source": [
        "model_5.compile(optimizer='adam', loss='sparse_categorical_crossentropy', metrics=['accuracy'])\n",
        "\n",
        "checkpoint_5 = os.path.dirname(\"training_5/training_5.ckpt\")\n",
        "cp_callback_5 = tf.keras.callbacks.ModelCheckpoint(filepath=checkpoint_5, save_weights_only=True)\n",
        "\n",
        "history_5 = model_5.fit(train_images, train_labels, epochs=10, validation_data=(validation_images, validation_labels), callbacks=[cp_callback_5])"
      ],
      "execution_count": 40,
      "outputs": [
        {
          "output_type": "stream",
          "text": [
            "Train on 40000 samples, validate on 10000 samples\n",
            "Epoch 1/10\n",
            "40000/40000 [==============================] - 14s 346us/sample - loss: 1.8852 - acc: 0.3004 - val_loss: 1.6977 - val_acc: 0.3710\n",
            "Epoch 2/10\n",
            "40000/40000 [==============================] - 14s 354us/sample - loss: 1.6278 - acc: 0.4087 - val_loss: 1.5871 - val_acc: 0.4298\n",
            "Epoch 3/10\n",
            "40000/40000 [==============================] - 13s 333us/sample - loss: 1.5359 - acc: 0.4478 - val_loss: 1.4908 - val_acc: 0.4635\n",
            "Epoch 4/10\n",
            "40000/40000 [==============================] - 13s 336us/sample - loss: 1.4752 - acc: 0.4706 - val_loss: 1.4725 - val_acc: 0.4726\n",
            "Epoch 5/10\n",
            "40000/40000 [==============================] - 13s 336us/sample - loss: 1.4317 - acc: 0.4886 - val_loss: 1.4432 - val_acc: 0.4838\n",
            "Epoch 6/10\n",
            "40000/40000 [==============================] - 13s 331us/sample - loss: 1.3930 - acc: 0.5021 - val_loss: 1.4349 - val_acc: 0.4860\n",
            "Epoch 7/10\n",
            "40000/40000 [==============================] - 13s 330us/sample - loss: 1.3645 - acc: 0.5106 - val_loss: 1.3961 - val_acc: 0.4993\n",
            "Epoch 8/10\n",
            "40000/40000 [==============================] - 13s 328us/sample - loss: 1.3354 - acc: 0.5259 - val_loss: 1.3905 - val_acc: 0.5055\n",
            "Epoch 9/10\n",
            "40000/40000 [==============================] - 13s 331us/sample - loss: 1.3121 - acc: 0.5328 - val_loss: 1.4096 - val_acc: 0.5025\n",
            "Epoch 10/10\n",
            "40000/40000 [==============================] - 13s 329us/sample - loss: 1.2949 - acc: 0.5401 - val_loss: 1.3875 - val_acc: 0.5047\n"
          ],
          "name": "stdout"
        }
      ]
    },
    {
      "cell_type": "code",
      "metadata": {
        "id": "GvX_WNXjC22D",
        "colab_type": "code",
        "outputId": "c6d3dd4f-3eeb-4fc1-927c-6047646199ee",
        "colab": {
          "base_uri": "https://localhost:8080/",
          "height": 89
        }
      },
      "source": [
        "score_5 = model_5.evaluate(test_images, test_labels, verbose=1)\n",
        "score_5_ = model_5.evaluate(validation_images, validation_labels, verbose=1)\n",
        "score_5__ = model_5.evaluate(train_images, train_labels, verbose=1)"
      ],
      "execution_count": 41,
      "outputs": [
        {
          "output_type": "stream",
          "text": [
            "10000/10000 [==============================] - 1s 123us/sample - loss: 1.3924 - acc: 0.5059\n",
            "10000/10000 [==============================] - 1s 122us/sample - loss: 1.3875 - acc: 0.5047\n",
            "40000/40000 [==============================] - 5s 120us/sample - loss: 1.2781 - acc: 0.5456\n"
          ],
          "name": "stdout"
        }
      ]
    },
    {
      "cell_type": "code",
      "metadata": {
        "id": "tQliFx0K3XeA",
        "colab_type": "code",
        "colab": {
          "base_uri": "https://localhost:8080/",
          "height": 573
        },
        "outputId": "f6ce05f0-efd4-44d2-d3df-c973ac744c79"
      },
      "source": [
        "plot_accuracy(history_5)\n",
        "plot_loss(history_5)"
      ],
      "execution_count": 60,
      "outputs": [
        {
          "output_type": "display_data",
          "data": {
            "image/png": "[encoded data removed]",
            "text/plain": [
              "<Figure size 432x288 with 1 Axes>"
            ]
          },
          "metadata": {
            "tags": []
          }
        },
        {
          "output_type": "display_data",
          "data": {
            "image/png": "[encoded data removed]",
            "text/plain": [
              "<Figure size 432x288 with 1 Axes>"
            ]
          },
          "metadata": {
            "tags": []
          }
        }
      ]
    },
    {
      "cell_type": "code",
      "metadata": {
        "id": "pzXjSk67BJHw",
        "colab_type": "code",
        "outputId": "4520e698-ef70-4453-e50b-79b82f204ea2",
        "colab": {
          "base_uri": "https://localhost:8080/",
          "height": 489
        }
      },
      "source": [
        "## Choosing model 4 - the best model obtained above\n",
        "\n",
        "model_6 = models.Sequential()\n",
        "\n",
        "# first convolution and max pooling layer ---  padding='valid' is zero padding by default\n",
        "\n",
        "model_6.add(layers.Conv2D(32, (3, 3), activation='relu', padding='SAME', input_shape=(32, 32, 3)))\n",
        "model_6.add(layers.MaxPooling2D((2, 2)))\n",
        "\n",
        "# model_6.add(layers.MaxPooling2D(pool_size=2))            // 2 will be used for both dimensions\n",
        "\n",
        "# second convolution and max pooling layer\n",
        "model_6.add(layers.Conv2D(64, (3, 3), padding='SAME', activation='relu'))\n",
        "model_6.add(layers.MaxPooling2D((2, 2)))\n",
        "\n",
        "model_6.add(layers.Conv2D(128, (3, 3), padding='SAME', activation='relu'))\n",
        "model_6.add(layers.MaxPooling2D((2, 2)))\n",
        "\n",
        "model_6.add(layers.Flatten())\n",
        "model_6.add(layers.Dense(64, activation='relu'))\n",
        "model_6.add(layers.Dense(10, activation='softmax'))\n",
        "\n",
        "model_6.summary()\n"
      ],
      "execution_count": 43,
      "outputs": [
        {
          "output_type": "stream",
          "text": [
            "Model: \"sequential_8\"\n",
            "_________________________________________________________________\n",
            "Layer (type)                 Output Shape              Param #   \n",
            "=================================================================\n",
            "conv2d_18 (Conv2D)           (None, 32, 32, 32)        896       \n",
            "_________________________________________________________________\n",
            "max_pooling2d_18 (MaxPooling (None, 16, 16, 32)        0         \n",
            "_________________________________________________________________\n",
            "conv2d_19 (Conv2D)           (None, 16, 16, 64)        18496     \n",
            "_________________________________________________________________\n",
            "max_pooling2d_19 (MaxPooling (None, 8, 8, 64)          0         \n",
            "_________________________________________________________________\n",
            "conv2d_20 (Conv2D)           (None, 8, 8, 128)         73856     \n",
            "_________________________________________________________________\n",
            "max_pooling2d_20 (MaxPooling (None, 4, 4, 128)         0         \n",
            "_________________________________________________________________\n",
            "flatten_8 (Flatten)          (None, 2048)              0         \n",
            "_________________________________________________________________\n",
            "dense_16 (Dense)             (None, 64)                131136    \n",
            "_________________________________________________________________\n",
            "dense_17 (Dense)             (None, 10)                650       \n",
            "=================================================================\n",
            "Total params: 225,034\n",
            "Trainable params: 225,034\n",
            "Non-trainable params: 0\n",
            "_________________________________________________________________\n"
          ],
          "name": "stdout"
        }
      ]
    },
    {
      "cell_type": "code",
      "metadata": {
        "id": "04bni9dVC4mD",
        "colab_type": "code",
        "outputId": "eb4cbc52-0037-4ac9-8ffe-fc12cb0d4ea2",
        "colab": {
          "base_uri": "https://localhost:8080/",
          "height": 402
        }
      },
      "source": [
        "model_6.compile(optimizer='adam', loss='sparse_categorical_crossentropy', metrics=['accuracy'])\n",
        "\n",
        "checkpoint_6 = os.path.dirname(\"training_6/training_6.ckpt\")\n",
        "cp_callback_6 = tf.keras.callbacks.ModelCheckpoint(filepath=checkpoint_6, save_weights_only=True)\n",
        "\n",
        "history_6 = model_6.fit(train_images, train_labels, epochs=10, validation_data=(validation_images, validation_labels), callbacks=[cp_callback_6])"
      ],
      "execution_count": 44,
      "outputs": [
        {
          "output_type": "stream",
          "text": [
            "Train on 40000 samples, validate on 10000 samples\n",
            "Epoch 1/10\n",
            "40000/40000 [==============================] - 96s 2ms/sample - loss: 1.4977 - acc: 0.4555 - val_loss: 1.1968 - val_acc: 0.5730\n",
            "Epoch 2/10\n",
            "40000/40000 [==============================] - 96s 2ms/sample - loss: 1.0369 - acc: 0.6368 - val_loss: 0.9278 - val_acc: 0.6815\n",
            "Epoch 3/10\n",
            "40000/40000 [==============================] - 96s 2ms/sample - loss: 0.8622 - acc: 0.6979 - val_loss: 0.8875 - val_acc: 0.6838\n",
            "Epoch 4/10\n",
            "40000/40000 [==============================] - 96s 2ms/sample - loss: 0.7552 - acc: 0.7381 - val_loss: 0.8077 - val_acc: 0.7187\n",
            "Epoch 5/10\n",
            "40000/40000 [==============================] - 96s 2ms/sample - loss: 0.6768 - acc: 0.7627 - val_loss: 0.8210 - val_acc: 0.7150\n",
            "Epoch 6/10\n",
            "40000/40000 [==============================] - 95s 2ms/sample - loss: 0.6022 - acc: 0.7903 - val_loss: 0.7874 - val_acc: 0.7314\n",
            "Epoch 7/10\n",
            "40000/40000 [==============================] - 95s 2ms/sample - loss: 0.5322 - acc: 0.8139 - val_loss: 0.8044 - val_acc: 0.7323\n",
            "Epoch 8/10\n",
            "40000/40000 [==============================] - 95s 2ms/sample - loss: 0.4728 - acc: 0.8329 - val_loss: 0.8292 - val_acc: 0.7350\n",
            "Epoch 9/10\n",
            "40000/40000 [==============================] - 95s 2ms/sample - loss: 0.4219 - acc: 0.8505 - val_loss: 0.8695 - val_acc: 0.7249\n",
            "Epoch 10/10\n",
            "40000/40000 [==============================] - 94s 2ms/sample - loss: 0.3675 - acc: 0.8704 - val_loss: 0.8911 - val_acc: 0.7294\n"
          ],
          "name": "stdout"
        }
      ]
    },
    {
      "cell_type": "code",
      "metadata": {
        "id": "K3C9197cC4c6",
        "colab_type": "code",
        "outputId": "cd074fed-28d8-42b2-e1fb-ae802934544d",
        "colab": {
          "base_uri": "https://localhost:8080/",
          "height": 89
        }
      },
      "source": [
        "score_6 = model_6.evaluate(test_images, test_labels, verbose=1)\n",
        "score_6_ = model_6.evaluate(validation_images, validation_labels, verbose=1)\n",
        "score_6__ = model_6.evaluate(train_images, train_labels, verbose=1)"
      ],
      "execution_count": 45,
      "outputs": [
        {
          "output_type": "stream",
          "text": [
            "10000/10000 [==============================] - 7s 674us/sample - loss: 0.9397 - acc: 0.7291\n",
            "10000/10000 [==============================] - 7s 671us/sample - loss: 0.8911 - acc: 0.7294\n",
            "40000/40000 [==============================] - 27s 679us/sample - loss: 0.2802 - acc: 0.9028\n"
          ],
          "name": "stdout"
        }
      ]
    },
    {
      "cell_type": "code",
      "metadata": {
        "id": "DUePTJKu3chZ",
        "colab_type": "code",
        "colab": {
          "base_uri": "https://localhost:8080/",
          "height": 573
        },
        "outputId": "073ebe64-7f25-4c50-8590-8f10f47ef421"
      },
      "source": [
        "plot_accuracy(history_6)\n",
        "plot_loss(history_6)"
      ],
      "execution_count": 61,
      "outputs": [
        {
          "output_type": "display_data",
          "data": {
            "image/png": "[encoded data removed]",
            "text/plain": [
              "<Figure size 432x288 with 1 Axes>"
            ]
          },
          "metadata": {
            "tags": []
          }
        },
        {
          "output_type": "display_data",
          "data": {
            "image/png": "[encoded data removed]",
            "text/plain": [
              "<Figure size 432x288 with 1 Axes>"
            ]
          },
          "metadata": {
            "tags": []
          }
        }
      ]
    },
    {
      "cell_type": "code",
      "metadata": {
        "id": "yxz8dJjHCWVU",
        "colab_type": "code",
        "outputId": "65ffbbd6-9cf9-41fa-8209-a2482288addd",
        "colab": {
          "base_uri": "https://localhost:8080/",
          "height": 419
        }
      },
      "source": [
        "## Choosing model 3 - to avoid negative dimension error with model 4\n",
        "\n",
        "model_7 = models.Sequential()\n",
        "\n",
        "# first convolution and max pooling layer ---  padding='valid' is zero padding by default\n",
        "\n",
        "model_7.add(layers.Conv2D(32, (3, 3), activation='relu', strides=(2, 2), padding='SAME', input_shape=(32, 32, 3)))\n",
        "model_7.add(layers.MaxPooling2D((2, 2)))\n",
        "\n",
        "# model_7.add(layers.MaxPooling2D(pool_size=2))            // 2 will be used for both dimensions\n",
        "\n",
        "# second convolution and max pooling layer\n",
        "model_7.add(layers.Conv2D(64, (3, 3), activation='relu', strides=(2, 2), padding='SAME'))\n",
        "model_7.add(layers.MaxPooling2D((2, 2)))\n",
        "\n",
        "model_7.add(layers.Flatten())\n",
        "model_7.add(layers.Dense(64, activation='relu'))\n",
        "model_7.add(layers.Dense(10, activation='softmax'))\n",
        "\n",
        "model_7.summary()\n"
      ],
      "execution_count": 47,
      "outputs": [
        {
          "output_type": "stream",
          "text": [
            "Model: \"sequential_9\"\n",
            "_________________________________________________________________\n",
            "Layer (type)                 Output Shape              Param #   \n",
            "=================================================================\n",
            "conv2d_21 (Conv2D)           (None, 16, 16, 32)        896       \n",
            "_________________________________________________________________\n",
            "max_pooling2d_21 (MaxPooling (None, 8, 8, 32)          0         \n",
            "_________________________________________________________________\n",
            "conv2d_22 (Conv2D)           (None, 4, 4, 64)          18496     \n",
            "_________________________________________________________________\n",
            "max_pooling2d_22 (MaxPooling (None, 2, 2, 64)          0         \n",
            "_________________________________________________________________\n",
            "flatten_9 (Flatten)          (None, 256)               0         \n",
            "_________________________________________________________________\n",
            "dense_18 (Dense)             (None, 64)                16448     \n",
            "_________________________________________________________________\n",
            "dense_19 (Dense)             (None, 10)                650       \n",
            "=================================================================\n",
            "Total params: 36,490\n",
            "Trainable params: 36,490\n",
            "Non-trainable params: 0\n",
            "_________________________________________________________________\n"
          ],
          "name": "stdout"
        }
      ]
    },
    {
      "cell_type": "code",
      "metadata": {
        "id": "EIQtzWUaC5pE",
        "colab_type": "code",
        "outputId": "16e6c306-2f19-440e-f533-8e05cdd1c2c9",
        "colab": {
          "base_uri": "https://localhost:8080/",
          "height": 402
        }
      },
      "source": [
        "model_7.compile(optimizer='adam', loss='sparse_categorical_crossentropy', metrics=['accuracy'])\n",
        "\n",
        "checkpoint_7 = os.path.dirname(\"training_7/training_7.ckpt\")\n",
        "cp_callback_7 = tf.keras.callbacks.ModelCheckpoint(filepath=checkpoint_7, save_weights_only=True)\n",
        "\n",
        "history_7 = model_7.fit(train_images, train_labels, epochs=10, validation_data=(validation_images, validation_labels), callbacks=[cp_callback_7])"
      ],
      "execution_count": 48,
      "outputs": [
        {
          "output_type": "stream",
          "text": [
            "Train on 40000 samples, validate on 10000 samples\n",
            "Epoch 1/10\n",
            "40000/40000 [==============================] - 15s 377us/sample - loss: 1.6727 - acc: 0.3894 - val_loss: 1.3941 - val_acc: 0.4901\n",
            "Epoch 2/10\n",
            "40000/40000 [==============================] - 15s 364us/sample - loss: 1.3502 - acc: 0.5116 - val_loss: 1.2616 - val_acc: 0.5428\n",
            "Epoch 3/10\n",
            "40000/40000 [==============================] - 15s 367us/sample - loss: 1.2284 - acc: 0.5628 - val_loss: 1.1826 - val_acc: 0.5769\n",
            "Epoch 4/10\n",
            "40000/40000 [==============================] - 15s 369us/sample - loss: 1.1464 - acc: 0.5919 - val_loss: 1.1261 - val_acc: 0.6007\n",
            "Epoch 5/10\n",
            "40000/40000 [==============================] - 15s 365us/sample - loss: 1.0860 - acc: 0.6136 - val_loss: 1.0902 - val_acc: 0.6172\n",
            "Epoch 6/10\n",
            "40000/40000 [==============================] - 15s 368us/sample - loss: 1.0351 - acc: 0.6328 - val_loss: 1.0983 - val_acc: 0.6127\n",
            "Epoch 7/10\n",
            "40000/40000 [==============================] - 15s 384us/sample - loss: 0.9942 - acc: 0.6466 - val_loss: 1.0818 - val_acc: 0.6170\n",
            "Epoch 8/10\n",
            "40000/40000 [==============================] - 15s 373us/sample - loss: 0.9592 - acc: 0.6597 - val_loss: 1.0761 - val_acc: 0.6235\n",
            "Epoch 9/10\n",
            "40000/40000 [==============================] - 15s 369us/sample - loss: 0.9286 - acc: 0.6705 - val_loss: 1.0710 - val_acc: 0.6218\n",
            "Epoch 10/10\n",
            "40000/40000 [==============================] - 15s 371us/sample - loss: 0.9031 - acc: 0.6809 - val_loss: 1.0176 - val_acc: 0.6454\n"
          ],
          "name": "stdout"
        }
      ]
    },
    {
      "cell_type": "code",
      "metadata": {
        "id": "z_EOHKxrC5gz",
        "colab_type": "code",
        "outputId": "2efb520d-ad1b-4e79-f9e4-434db7b883b9",
        "colab": {
          "base_uri": "https://localhost:8080/",
          "height": 89
        }
      },
      "source": [
        "score_7 = model_7.evaluate(test_images, test_labels, verbose=1)\n",
        "score_7_ = model_7.evaluate(validation_images, validation_labels, verbose=1)\n",
        "score_7__ = model_7.evaluate(train_images, train_labels, verbose=1)"
      ],
      "execution_count": 62,
      "outputs": [
        {
          "output_type": "stream",
          "text": [
            "10000/10000 [==============================] - 1s 129us/sample - loss: 1.0314 - acc: 0.6444\n",
            "10000/10000 [==============================] - 1s 129us/sample - loss: 1.0176 - acc: 0.6454\n",
            "40000/40000 [==============================] - 5s 127us/sample - loss: 0.8371 - acc: 0.7036\n"
          ],
          "name": "stdout"
        }
      ]
    },
    {
      "cell_type": "code",
      "metadata": {
        "id": "jb6FSAI03fHG",
        "colab_type": "code",
        "colab": {
          "base_uri": "https://localhost:8080/",
          "height": 573
        },
        "outputId": "eb03186c-78f3-4468-9b40-bf753a231b24"
      },
      "source": [
        "plot_accuracy(history_7)\n",
        "plot_loss(history_7)"
      ],
      "execution_count": 50,
      "outputs": [
        {
          "output_type": "display_data",
          "data": {
            "image/png": "[encoded data removed]",
            "text/plain": [
              "<Figure size 432x288 with 1 Axes>"
            ]
          },
          "metadata": {
            "tags": []
          }
        },
        {
          "output_type": "display_data",
          "data": {
            "image/png": "[encoded data removed]",
            "text/plain": [
              "<Figure size 432x288 with 1 Axes>"
            ]
          },
          "metadata": {
            "tags": []
          }
        }
      ]
    },
    {
      "cell_type": "markdown",
      "metadata": {
        "id": "psaf2RsyVQmZ",
        "colab_type": "text"
      },
      "source": [
        "Model 6 has the highest test accuracy (72.91 %)."
      ]
    },
    {
      "cell_type": "code",
      "metadata": {
        "id": "oKkc5JCTVbgR",
        "colab_type": "code",
        "colab": {
          "base_uri": "https://localhost:8080/",
          "height": 489
        },
        "outputId": "23a3bd2d-059b-44b2-8a48-b38ebd35c243"
      },
      "source": [
        "## Choosing model 6 - the best model obtained above\n",
        "\n",
        "model_8 = models.Sequential()\n",
        "\n",
        "# first convolution and max pooling layer ---  padding='valid' is zero padding by default\n",
        "\n",
        "model_8.add(layers.Conv2D(32, (3, 3), activation='tanh', padding='SAME', input_shape=(32, 32, 3)))\n",
        "model_8.add(layers.MaxPooling2D((2, 2)))\n",
        "\n",
        "# model_8.add(layers.MaxPooling2D(pool_size=2))            // 2 will be used for both dimensions\n",
        "\n",
        "# second convolution and max pooling layer\n",
        "model_8.add(layers.Conv2D(64, (3, 3), padding='SAME', activation='tanh'))\n",
        "model_8.add(layers.MaxPooling2D((2, 2)))\n",
        "\n",
        "model_8.add(layers.Conv2D(128, (3, 3), padding='SAME', activation='tanh'))\n",
        "model_8.add(layers.MaxPooling2D((2, 2)))\n",
        "\n",
        "model_8.add(layers.Flatten())\n",
        "model_8.add(layers.Dense(64, activation='tanh'))\n",
        "model_8.add(layers.Dense(10, activation='softmax'))\n",
        "\n",
        "model_8.summary()\n"
      ],
      "execution_count": 63,
      "outputs": [
        {
          "output_type": "stream",
          "text": [
            "Model: \"sequential_10\"\n",
            "_________________________________________________________________\n",
            "Layer (type)                 Output Shape              Param #   \n",
            "=================================================================\n",
            "conv2d_23 (Conv2D)           (None, 32, 32, 32)        896       \n",
            "_________________________________________________________________\n",
            "max_pooling2d_23 (MaxPooling (None, 16, 16, 32)        0         \n",
            "_________________________________________________________________\n",
            "conv2d_24 (Conv2D)           (None, 16, 16, 64)        18496     \n",
            "_________________________________________________________________\n",
            "max_pooling2d_24 (MaxPooling (None, 8, 8, 64)          0         \n",
            "_________________________________________________________________\n",
            "conv2d_25 (Conv2D)           (None, 8, 8, 128)         73856     \n",
            "_________________________________________________________________\n",
            "max_pooling2d_25 (MaxPooling (None, 4, 4, 128)         0         \n",
            "_________________________________________________________________\n",
            "flatten_10 (Flatten)         (None, 2048)              0         \n",
            "_________________________________________________________________\n",
            "dense_20 (Dense)             (None, 64)                131136    \n",
            "_________________________________________________________________\n",
            "dense_21 (Dense)             (None, 10)                650       \n",
            "=================================================================\n",
            "Total params: 225,034\n",
            "Trainable params: 225,034\n",
            "Non-trainable params: 0\n",
            "_________________________________________________________________\n"
          ],
          "name": "stdout"
        }
      ]
    },
    {
      "cell_type": "code",
      "metadata": {
        "id": "DcJdcJGsV8Id",
        "colab_type": "code",
        "colab": {
          "base_uri": "https://localhost:8080/",
          "height": 402
        },
        "outputId": "b96b2bba-86f1-47f2-9eee-6cf9dd033fc5"
      },
      "source": [
        "model_8.compile(optimizer='adam', loss='sparse_categorical_crossentropy', metrics=['accuracy'])\n",
        "\n",
        "checkpoint_8 = os.path.dirname(\"training_8/training_8.ckpt\")\n",
        "cp_callback_8 = tf.keras.callbacks.ModelCheckpoint(filepath=checkpoint_8, save_weights_only=True)\n",
        "\n",
        "history_8 = model_8.fit(train_images, train_labels, epochs=10, validation_data=(validation_images, validation_labels), callbacks=[cp_callback_8])"
      ],
      "execution_count": 68,
      "outputs": [
        {
          "output_type": "stream",
          "text": [
            "Train on 40000 samples, validate on 10000 samples\n",
            "Epoch 1/10\n",
            "40000/40000 [==============================] - 98s 2ms/sample - loss: 1.3114 - acc: 0.5335 - val_loss: 1.0800 - val_acc: 0.6235\n",
            "Epoch 2/10\n",
            "40000/40000 [==============================] - 97s 2ms/sample - loss: 0.9638 - acc: 0.6644 - val_loss: 0.9272 - val_acc: 0.6766\n",
            "Epoch 3/10\n",
            "40000/40000 [==============================] - 97s 2ms/sample - loss: 0.8142 - acc: 0.7181 - val_loss: 0.9369 - val_acc: 0.6764\n",
            "Epoch 4/10\n",
            "40000/40000 [==============================] - 97s 2ms/sample - loss: 0.7000 - acc: 0.7595 - val_loss: 0.8997 - val_acc: 0.6919\n",
            "Epoch 5/10\n",
            "40000/40000 [==============================] - 97s 2ms/sample - loss: 0.5969 - acc: 0.7939 - val_loss: 0.9018 - val_acc: 0.6950\n",
            "Epoch 6/10\n",
            "40000/40000 [==============================] - 97s 2ms/sample - loss: 0.5090 - acc: 0.8255 - val_loss: 0.9249 - val_acc: 0.6930\n",
            "Epoch 7/10\n",
            "40000/40000 [==============================] - 98s 2ms/sample - loss: 0.4298 - acc: 0.8525 - val_loss: 0.9714 - val_acc: 0.6929\n",
            "Epoch 8/10\n",
            "40000/40000 [==============================] - 98s 2ms/sample - loss: 0.3700 - acc: 0.8739 - val_loss: 1.0000 - val_acc: 0.6968\n",
            "Epoch 9/10\n",
            "40000/40000 [==============================] - 98s 2ms/sample - loss: 0.3130 - acc: 0.8950 - val_loss: 1.0308 - val_acc: 0.6998\n",
            "Epoch 10/10\n",
            "40000/40000 [==============================] - 98s 2ms/sample - loss: 0.2678 - acc: 0.9097 - val_loss: 1.1092 - val_acc: 0.6847\n"
          ],
          "name": "stdout"
        }
      ]
    },
    {
      "cell_type": "code",
      "metadata": {
        "id": "7rFrp3q8V7-d",
        "colab_type": "code",
        "colab": {
          "base_uri": "https://localhost:8080/",
          "height": 89
        },
        "outputId": "70050a95-4c0a-480a-d187-3dff754364b8"
      },
      "source": [
        "score_8 = model_8.evaluate(test_images, test_labels, verbose=1)\n",
        "score_8_ = model_8.evaluate(validation_images, validation_labels, verbose=1)\n",
        "score_8__ = model_8.evaluate(train_images, train_labels, verbose=1)"
      ],
      "execution_count": 69,
      "outputs": [
        {
          "output_type": "stream",
          "text": [
            "10000/10000 [==============================] - 7s 715us/sample - loss: 1.1049 - acc: 0.6871\n",
            "10000/10000 [==============================] - 7s 717us/sample - loss: 1.1092 - acc: 0.6847\n",
            "40000/40000 [==============================] - 28s 700us/sample - loss: 0.1993 - acc: 0.9371\n"
          ],
          "name": "stdout"
        }
      ]
    },
    {
      "cell_type": "code",
      "metadata": {
        "id": "KiP84fdMV7io",
        "colab_type": "code",
        "colab": {
          "base_uri": "https://localhost:8080/",
          "height": 573
        },
        "outputId": "79ca0465-bff2-487d-a9d2-acaba74a2e38"
      },
      "source": [
        "plot_accuracy(history_8)\n",
        "plot_loss(history_8)"
      ],
      "execution_count": 70,
      "outputs": [
        {
          "output_type": "display_data",
          "data": {
            "image/png": "[encoded data removed]",
            "text/plain": [
              "<Figure size 432x288 with 1 Axes>"
            ]
          },
          "metadata": {
            "tags": []
          }
        },
        {
          "output_type": "display_data",
          "data": {
            "image/png": "[encoded data removed]",
            "text/plain": [
              "<Figure size 432x288 with 1 Axes>"
            ]
          },
          "metadata": {
            "tags": []
          }
        }
      ]
    },
    {
      "cell_type": "code",
      "metadata": {
        "id": "HhV_l3QlVbHn",
        "colab_type": "code",
        "colab": {
          "base_uri": "https://localhost:8080/",
          "height": 489
        },
        "outputId": "5c07db9d-13da-4889-c1bc-8a4e25063962"
      },
      "source": [
        "## Choosing model 6 - the best model obtained above\n",
        "\n",
        "model_9 = models.Sequential()\n",
        "\n",
        "# first convolution and max pooling layer ---  padding='valid' is zero padding by default\n",
        "\n",
        "model_9.add(layers.Conv2D(32, (3, 3), activation='sigmoid', padding='SAME', input_shape=(32, 32, 3)))\n",
        "model_9.add(layers.MaxPooling2D((2, 2)))\n",
        "\n",
        "# model_9.add(layers.MaxPooling2D(pool_size=2))            // 2 will be used for both dimensions\n",
        "\n",
        "# second convolution and max pooling layer\n",
        "model_9.add(layers.Conv2D(64, (3, 3), padding='SAME', activation='sigmoid'))\n",
        "model_9.add(layers.MaxPooling2D((2, 2)))\n",
        "\n",
        "model_9.add(layers.Conv2D(128, (3, 3), padding='SAME', activation='sigmoid'))\n",
        "model_9.add(layers.MaxPooling2D((2, 2)))\n",
        "\n",
        "model_9.add(layers.Flatten())\n",
        "model_9.add(layers.Dense(64, activation='sigmoid'))\n",
        "model_9.add(layers.Dense(10, activation='softmax'))\n",
        "\n",
        "model_9.summary()\n"
      ],
      "execution_count": 64,
      "outputs": [
        {
          "output_type": "stream",
          "text": [
            "Model: \"sequential_11\"\n",
            "_________________________________________________________________\n",
            "Layer (type)                 Output Shape              Param #   \n",
            "=================================================================\n",
            "conv2d_26 (Conv2D)           (None, 32, 32, 32)        896       \n",
            "_________________________________________________________________\n",
            "max_pooling2d_26 (MaxPooling (None, 16, 16, 32)        0         \n",
            "_________________________________________________________________\n",
            "conv2d_27 (Conv2D)           (None, 16, 16, 64)        18496     \n",
            "_________________________________________________________________\n",
            "max_pooling2d_27 (MaxPooling (None, 8, 8, 64)          0         \n",
            "_________________________________________________________________\n",
            "conv2d_28 (Conv2D)           (None, 8, 8, 128)         73856     \n",
            "_________________________________________________________________\n",
            "max_pooling2d_28 (MaxPooling (None, 4, 4, 128)         0         \n",
            "_________________________________________________________________\n",
            "flatten_11 (Flatten)         (None, 2048)              0         \n",
            "_________________________________________________________________\n",
            "dense_22 (Dense)             (None, 64)                131136    \n",
            "_________________________________________________________________\n",
            "dense_23 (Dense)             (None, 10)                650       \n",
            "=================================================================\n",
            "Total params: 225,034\n",
            "Trainable params: 225,034\n",
            "Non-trainable params: 0\n",
            "_________________________________________________________________\n"
          ],
          "name": "stdout"
        }
      ]
    },
    {
      "cell_type": "code",
      "metadata": {
        "id": "2zxFOjyWV9YM",
        "colab_type": "code",
        "colab": {
          "base_uri": "https://localhost:8080/",
          "height": 402
        },
        "outputId": "3fcbd64c-3bcb-445a-9733-d491e6be286c"
      },
      "source": [
        "model_9.compile(optimizer='adam', loss='sparse_categorical_crossentropy', metrics=['accuracy'])\n",
        "\n",
        "checkpoint_9 = os.path.dirname(\"training_9/training_9.ckpt\")\n",
        "cp_callback_9 = tf.keras.callbacks.ModelCheckpoint(filepath=checkpoint_9, save_weights_only=True)\n",
        "\n",
        "history_9 = model_9.fit(train_images, train_labels, epochs=10, validation_data=(validation_images, validation_labels), callbacks=[cp_callback_9])"
      ],
      "execution_count": 65,
      "outputs": [
        {
          "output_type": "stream",
          "text": [
            "Train on 40000 samples, validate on 10000 samples\n",
            "Epoch 1/10\n",
            "40000/40000 [==============================] - 98s 2ms/sample - loss: 2.0861 - acc: 0.2156 - val_loss: 1.7904 - val_acc: 0.3408\n",
            "Epoch 2/10\n",
            "40000/40000 [==============================] - 96s 2ms/sample - loss: 1.6471 - acc: 0.4078 - val_loss: 1.4940 - val_acc: 0.4593\n",
            "Epoch 3/10\n",
            "40000/40000 [==============================] - 98s 2ms/sample - loss: 1.4697 - acc: 0.4726 - val_loss: 1.4148 - val_acc: 0.4878\n",
            "Epoch 4/10\n",
            "40000/40000 [==============================] - 98s 2ms/sample - loss: 1.3785 - acc: 0.5046 - val_loss: 1.3497 - val_acc: 0.5155\n",
            "Epoch 5/10\n",
            "40000/40000 [==============================] - 98s 2ms/sample - loss: 1.3059 - acc: 0.5325 - val_loss: 1.2979 - val_acc: 0.5302\n",
            "Epoch 6/10\n",
            "40000/40000 [==============================] - 98s 2ms/sample - loss: 1.2444 - acc: 0.5558 - val_loss: 1.2667 - val_acc: 0.5474\n",
            "Epoch 7/10\n",
            "40000/40000 [==============================] - 98s 2ms/sample - loss: 1.1798 - acc: 0.5805 - val_loss: 1.2249 - val_acc: 0.5584\n",
            "Epoch 8/10\n",
            "40000/40000 [==============================] - 98s 2ms/sample - loss: 1.1246 - acc: 0.6028 - val_loss: 1.1993 - val_acc: 0.5635\n",
            "Epoch 9/10\n",
            "40000/40000 [==============================] - 97s 2ms/sample - loss: 1.0670 - acc: 0.6240 - val_loss: 1.1848 - val_acc: 0.5751\n",
            "Epoch 10/10\n",
            "40000/40000 [==============================] - 97s 2ms/sample - loss: 1.0128 - acc: 0.6428 - val_loss: 1.1284 - val_acc: 0.5968\n"
          ],
          "name": "stdout"
        }
      ]
    },
    {
      "cell_type": "code",
      "metadata": {
        "id": "f2iBvW-rV9QV",
        "colab_type": "code",
        "colab": {
          "base_uri": "https://localhost:8080/",
          "height": 89
        },
        "outputId": "2b448a15-870e-4854-c0ed-64c14f814a0c"
      },
      "source": [
        "score_9 = model_9.evaluate(test_images, test_labels, verbose=1)\n",
        "score_9_ = model_9.evaluate(validation_images, validation_labels, verbose=1)\n",
        "score_9__ = model_9.evaluate(train_images, train_labels, verbose=1)"
      ],
      "execution_count": 66,
      "outputs": [
        {
          "output_type": "stream",
          "text": [
            "10000/10000 [==============================] - 7s 697us/sample - loss: 1.1314 - acc: 0.6011\n",
            "10000/10000 [==============================] - 7s 706us/sample - loss: 1.1284 - acc: 0.5968\n",
            "40000/40000 [==============================] - 28s 705us/sample - loss: 0.9376 - acc: 0.6708\n"
          ],
          "name": "stdout"
        }
      ]
    },
    {
      "cell_type": "code",
      "metadata": {
        "id": "xoEO-x4GV9Cf",
        "colab_type": "code",
        "colab": {
          "base_uri": "https://localhost:8080/",
          "height": 573
        },
        "outputId": "f62e668a-0a93-4045-dd44-0283da28d680"
      },
      "source": [
        "plot_accuracy(history_9)\n",
        "plot_loss(history_9)"
      ],
      "execution_count": 67,
      "outputs": [
        {
          "output_type": "display_data",
          "data": {
            "image/png": "[encoded data removed]",
            "text/plain": [
              "<Figure size 432x288 with 1 Axes>"
            ]
          },
          "metadata": {
            "tags": []
          }
        },
        {
          "output_type": "display_data",
          "data": {
            "image/png": "[encoded data removed]",
            "text/plain": [
              "<Figure size 432x288 with 1 Axes>"
            ]
          },
          "metadata": {
            "tags": []
          }
        }
      ]
    },
    {
      "cell_type": "code",
      "metadata": {
        "id": "GnlSxZEuI9m2",
        "colab_type": "code",
        "colab": {
          "base_uri": "https://localhost:8080/",
          "height": 367
        },
        "outputId": "c34d5245-91af-4bce-808c-39de5887cce5"
      },
      "source": [
        "import pandas as pd\n",
        "import numpy as np\n",
        "\n",
        "columns = []\n",
        "columns.append('#of trainable parameters')\n",
        "columns.append('Training Time (seconds)')\n",
        "columns.append('Training Accuracy (%)')\n",
        "columns.append('Validation Accuracy (%)')\n",
        "columns.append('Test Accuracy (%)')\n",
        "\n",
        "\n",
        "df = pd.DataFrame({'Model': np.linspace(1, 9, 9)})\n",
        "df = pd.concat([df, pd.DataFrame(np.random.randn(9, 5), columns=columns)],\n",
        "               axis=1)\n",
        "\n",
        "df.iloc[0, 1] = 156810\n",
        "df.iloc[0, 2] = 79.4\n",
        "df.iloc[0, 3] = 79.25\n",
        "df.iloc[0, 4] = 67.24\n",
        "df.iloc[0, 5] = 67.44\n",
        "\n",
        "df.iloc[1, 1] = 58506\n",
        "df.iloc[1, 2] = 43\n",
        "df.iloc[1, 3] = 66.29\n",
        "df.iloc[1, 4] = 60.11\n",
        "df.iloc[1, 5] = 59.40\n",
        "\n",
        "df.iloc[2, 1] = 167562\n",
        "df.iloc[2, 2] = 52.6\n",
        "df.iloc[2, 3] = 80.92\n",
        "df.iloc[2, 4] = 70.06\n",
        "df.iloc[2, 5] = 69.62\n",
        "\n",
        "df.iloc[3, 1] = 126730\n",
        "df.iloc[3, 2] = 59.3\n",
        "df.iloc[3, 3] = 82.29\n",
        "df.iloc[3, 4] = 70.06\n",
        "df.iloc[3, 5] = 69.60\n",
        "\n",
        "df.iloc[4, 1] = 24202\n",
        "df.iloc[4, 2] = 13.2\n",
        "df.iloc[4, 3] = 54.56\n",
        "df.iloc[4, 4] = 50.47\n",
        "df.iloc[4, 5] = 50.59\n",
        "\n",
        "df.iloc[5, 1] = 225034\n",
        "df.iloc[5, 2] = 95.4\n",
        "df.iloc[5, 3] = 90.28\n",
        "df.iloc[5, 4] = 72.94\n",
        "df.iloc[5, 5] = 72.91\n",
        "\n",
        "df.iloc[6, 1] = 36490\n",
        "df.iloc[6, 2] = 15\n",
        "df.iloc[6, 3] = 70.36\n",
        "df.iloc[6, 4] = 64.54\n",
        "df.iloc[6, 5] = 64.44\n",
        "\n",
        "df.iloc[7, 1] = 225034\n",
        "df.iloc[7, 2] = 97.50\n",
        "df.iloc[7, 3] = 93.71\n",
        "df.iloc[7, 4] = 68.47\n",
        "df.iloc[7, 5] = 68.71\n",
        "\n",
        "df.iloc[8, 1] = 225034\n",
        "df.iloc[8, 2] = 97.60\n",
        "df.iloc[8, 3] = 67.08\n",
        "df.iloc[8, 4] = 59.68\n",
        "df.iloc[8, 5] = 60.11\n",
        "\n",
        "df"
      ],
      "execution_count": 74,
      "outputs": [
        {
          "output_type": "execute_result",
          "data": {
            "text/html": [
              "<div>\n",
              "<style scoped>\n",
              "    .dataframe tbody tr th:only-of-type {\n",
              "        vertical-align: middle;\n",
              "    }\n",
              "\n",
              "    .dataframe tbody tr th {\n",
              "        vertical-align: top;\n",
              "    }\n",
              "\n",
              "    .dataframe thead th {\n",
              "        text-align: right;\n",
              "    }\n",
              "</style>\n",
              "<table border=\"1\" class=\"dataframe\">\n",
              "  <thead>\n",
              "    <tr style=\"text-align: right;\">\n",
              "      <th></th>\n",
              "      <th>Model</th>\n",
              "      <th>#of trainable parameters</th>\n",
              "      <th>Training Time (seconds)</th>\n",
              "      <th>Training Accuracy (%)</th>\n",
              "      <th>Validation Accuracy (%)</th>\n",
              "      <th>Test Accuracy (%)</th>\n",
              "    </tr>\n",
              "  </thead>\n",
              "  <tbody>\n",
              "    <tr>\n",
              "      <th>0</th>\n",
              "      <td>1.0</td>\n",
              "      <td>156810.0</td>\n",
              "      <td>79.4</td>\n",
              "      <td>79.25</td>\n",
              "      <td>67.24</td>\n",
              "      <td>67.44</td>\n",
              "    </tr>\n",
              "    <tr>\n",
              "      <th>1</th>\n",
              "      <td>2.0</td>\n",
              "      <td>58506.0</td>\n",
              "      <td>43.0</td>\n",
              "      <td>66.29</td>\n",
              "      <td>60.11</td>\n",
              "      <td>59.40</td>\n",
              "    </tr>\n",
              "    <tr>\n",
              "      <th>2</th>\n",
              "      <td>3.0</td>\n",
              "      <td>167562.0</td>\n",
              "      <td>52.6</td>\n",
              "      <td>80.92</td>\n",
              "      <td>70.06</td>\n",
              "      <td>69.62</td>\n",
              "    </tr>\n",
              "    <tr>\n",
              "      <th>3</th>\n",
              "      <td>4.0</td>\n",
              "      <td>126730.0</td>\n",
              "      <td>59.3</td>\n",
              "      <td>82.29</td>\n",
              "      <td>70.06</td>\n",
              "      <td>69.60</td>\n",
              "    </tr>\n",
              "    <tr>\n",
              "      <th>4</th>\n",
              "      <td>5.0</td>\n",
              "      <td>24202.0</td>\n",
              "      <td>13.2</td>\n",
              "      <td>54.56</td>\n",
              "      <td>50.47</td>\n",
              "      <td>50.59</td>\n",
              "    </tr>\n",
              "    <tr>\n",
              "      <th>5</th>\n",
              "      <td>6.0</td>\n",
              "      <td>225034.0</td>\n",
              "      <td>95.4</td>\n",
              "      <td>90.28</td>\n",
              "      <td>72.94</td>\n",
              "      <td>72.91</td>\n",
              "    </tr>\n",
              "    <tr>\n",
              "      <th>6</th>\n",
              "      <td>7.0</td>\n",
              "      <td>36490.0</td>\n",
              "      <td>15.0</td>\n",
              "      <td>70.36</td>\n",
              "      <td>64.54</td>\n",
              "      <td>64.44</td>\n",
              "    </tr>\n",
              "    <tr>\n",
              "      <th>7</th>\n",
              "      <td>8.0</td>\n",
              "      <td>225034.0</td>\n",
              "      <td>97.5</td>\n",
              "      <td>93.71</td>\n",
              "      <td>68.47</td>\n",
              "      <td>68.71</td>\n",
              "    </tr>\n",
              "    <tr>\n",
              "      <th>8</th>\n",
              "      <td>9.0</td>\n",
              "      <td>225034.0</td>\n",
              "      <td>97.6</td>\n",
              "      <td>67.08</td>\n",
              "      <td>59.68</td>\n",
              "      <td>60.11</td>\n",
              "    </tr>\n",
              "  </tbody>\n",
              "</table>\n",
              "</div>"
            ],
            "text/plain": [
              "   Model  #of trainable parameters  ...  Validation Accuracy (%)  Test Accuracy (%)\n",
              "0    1.0                  156810.0  ...                    67.24              67.44\n",
              "1    2.0                   58506.0  ...                    60.11              59.40\n",
              "2    3.0                  167562.0  ...                    70.06              69.62\n",
              "3    4.0                  126730.0  ...                    70.06              69.60\n",
              "4    5.0                   24202.0  ...                    50.47              50.59\n",
              "5    6.0                  225034.0  ...                    72.94              72.91\n",
              "6    7.0                   36490.0  ...                    64.54              64.44\n",
              "7    8.0                  225034.0  ...                    68.47              68.71\n",
              "8    9.0                  225034.0  ...                    59.68              60.11\n",
              "\n",
              "[9 rows x 6 columns]"
            ]
          },
          "metadata": {
            "tags": []
          },
          "execution_count": 74
        }
      ]
    }
  ]
}